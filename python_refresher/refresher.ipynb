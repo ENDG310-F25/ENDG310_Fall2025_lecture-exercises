{
 "cells": [
  {
   "cell_type": "markdown",
   "metadata": {},
   "source": [
    "# Python Refresher - ENDG 310\n",
    "## Fundamentals of Software Design and Development\n",
    "\n",
    "This notebook covers essential Python concepts including:\n",
    "- Variables, Expressions, and Statements\n",
    "- Conditionals and Loops\n",
    "- Data Types: Strings, Lists, Dictionaries, Tuples, Sets\n",
    "- Functions and Modules\n",
    "- List Comprehensions\n",
    "- File I/O\n",
    "\n",
    "---"
   ]
  },
  {
   "cell_type": "markdown",
   "metadata": {},
   "source": [
    "## 1. Variables, Constants, and Expressions\n",
    "\n",
    "### Constants\n",
    "Fixed values that don't change during program execution."
   ]
  },
  {
   "cell_type": "code",
   "execution_count": 1,
   "metadata": {},
   "outputs": [
    {
     "name": "stdout",
     "output_type": "stream",
     "text": [
      "123\n",
      "98.6\n",
      "Hello world\n",
      "Hello world\n"
     ]
    }
   ],
   "source": [
    "\n",
    "print(123)\n",
    "print(98.6)\n",
    "\n",
    "print('Hello world')\n",
    "print(\"Hello world\")"
   ]
  },
  {
   "cell_type": "markdown",
   "metadata": {},
   "source": [
    "### Variables\n",
    "Named places in memory to store and retrieve data."
   ]
  },
  {
   "cell_type": "code",
   "execution_count": 2,
   "metadata": {},
   "outputs": [
    {
     "name": "stdout",
     "output_type": "stream",
     "text": [
      "x = 12.2, y = 14\n",
      "x is now 100\n",
      "Types: <class 'str'>, <class 'int'>, <class 'float'>, <class 'bool'>\n"
     ]
    }
   ],
   "source": [
    "#Variable assignment\n",
    "x = 12.2\n",
    "y = 14\n",
    "print(f\"x = {x}, y = {y}\")\n",
    "\n",
    "# Variables can be reassigned\n",
    "x = 100\n",
    "print(f\"x is now {x}\")\n",
    "\n",
    "# Dynamic typing - variables take type from assigned value\n",
    "name = \"Alice\"\n",
    "age = 25\n",
    "height = 5.6\n",
    "is_student = True\n",
    "\n",
    "print(f\"Types: {type(name)}, {type(age)}, {type(height)}, {type(is_student)}\")"
   ]
  },
  {
   "cell_type": "markdown",
   "metadata": {},
   "source": [
    "### Numeric Expressions and Operators"
   ]
  },
  {
   "cell_type": "code",
   "execution_count": 3,
   "metadata": {},
   "outputs": [
    {
     "name": "stdout",
     "output_type": "stream",
     "text": [
      "Addition: 10 + 3 = 13\n",
      "Subtraction: 10 - 3 = 7\n",
      "Multiplication: 10 * 3 = 30\n",
      "Division: 10 / 3 = 3.3333333333333335\n",
      "Power: 10 ** 3 = 1000\n",
      "Remainder: 10 % 3 = 1\n",
      "2 + 3 * 4 = 14\n",
      "(2 + 3) * 4 = 20\n"
     ]
    }
   ],
   "source": [
    "# Basic arithmetic operators\n",
    "a = 10\n",
    "b = 3\n",
    "\n",
    "print(f\"Addition: {a} + {b} = {a + b}\")\n",
    "print(f\"Subtraction: {a} - {b} = {a - b}\")\n",
    "print(f\"Multiplication: {a} * {b} = {a * b}\")\n",
    "print(f\"Division: {a} / {b} = {a / b}\")\n",
    "print(f\"Power: {a} ** {b} = {a ** b}\")\n",
    "print(f\"Remainder: {a} % {b} = {a % b}\")\n",
    "\n",
    "# Operator precedence example\n",
    "result = 2 + 3 * 4\n",
    "print(f\"2 + 3 * 4 = {result}\")\n",
    "\n",
    "result_with_parentheses = (2 + 3) * 4\n",
    "print(f\"(2 + 3) * 4 = {result_with_parentheses}\")"
   ]
  },
  {
   "cell_type": "markdown",
   "metadata": {},
   "source": [
    "### Exercise 1\n",
    "Calculate the area of a circle with radius 5 using the formula: area = π * r²"
   ]
  },
  {
   "cell_type": "code",
   "execution_count": 4,
   "metadata": {},
   "outputs": [
    {
     "name": "stdout",
     "output_type": "stream",
     "text": [
      "Area of circle with radius 5: 78.54\n"
     ]
    }
   ],
   "source": [
    "# Your solution here\n",
    "import math\n",
    "\n",
    "radius = 5\n",
    "area = math.pi * radius ** 2\n",
    "print(f\"Area of circle with radius {radius}: {area:.2f}\")"
   ]
  },
  {
   "cell_type": "markdown",
   "metadata": {},
   "source": [
    "## 2. Conditionals\n",
    "\n",
    "### Comparison Operators"
   ]
  },
  {
   "cell_type": "code",
   "execution_count": 5,
   "metadata": {},
   "outputs": [
    {
     "name": "stdout",
     "output_type": "stream",
     "text": [
      "x < y: True\n",
      "x <= y: True\n",
      "x == y: False\n",
      "x >= y: False\n",
      "x > y: False\n",
      "x != y: True\n"
     ]
    }
   ],
   "source": [
    "# Comparison operators\n",
    "x = 5\n",
    "y = 10\n",
    "\n",
    "print(f\"x < y: {x < y}\")\n",
    "print(f\"x <= y: {x <= y}\")\n",
    "print(f\"x == y: {x == y}\")\n",
    "print(f\"x >= y: {x >= y}\")\n",
    "print(f\"x > y: {x > y}\")\n",
    "print(f\"x != y: {x != y}\")"
   ]
  },
  {
   "cell_type": "markdown",
   "metadata": {},
   "source": [
    "### If Statements"
   ]
  },
  {
   "cell_type": "code",
   "execution_count": 6,
   "metadata": {},
   "outputs": [
    {
     "name": "stdout",
     "output_type": "stream",
     "text": [
      "Smaller\n",
      "Finis\n",
      "Score: 85, Grade: B\n"
     ]
    }
   ],
   "source": [
    "# Basic if statement\n",
    "x = 5\n",
    "\n",
    "if x < 10:\n",
    "    print('Smaller')\n",
    "\n",
    "if x > 20:\n",
    "    print('Bigger')\n",
    "    \n",
    "print('Finis')\n",
    "\n",
    "# If-elif-else structure\n",
    "score = 85\n",
    "\n",
    "if score >= 90:\n",
    "    grade = 'A'\n",
    "elif score >= 80:\n",
    "    grade = 'B'\n",
    "elif score >= 70:\n",
    "    grade = 'C'\n",
    "elif score >= 60:\n",
    "    grade = 'D'\n",
    "else:\n",
    "    grade = 'F'\n",
    "    \n",
    "print(f\"Score: {score}, Grade: {grade}\")"
   ]
  },
  {
   "cell_type": "markdown",
   "metadata": {},
   "source": [
    "### Try/Except for Error Handling"
   ]
  },
  {
   "cell_type": "code",
   "execution_count": 7,
   "metadata": {},
   "outputs": [
    {
     "name": "stdout",
     "output_type": "stream",
     "text": [
      "First -1\n",
      "Second 123\n",
      "Cannot convert 'not_a_number' to integer\n"
     ]
    }
   ],
   "source": [
    "# Try/except example\n",
    "astr = 'Hello Bob'\n",
    "try:\n",
    "    istr = int(astr)\n",
    "except:\n",
    "    istr = -1\n",
    "print('First', istr)\n",
    "\n",
    "astr = '123'\n",
    "try:\n",
    "    istr = int(astr)\n",
    "except:\n",
    "    istr = -1\n",
    "print('Second', istr)\n",
    "\n",
    "# Better practice: catch specific exceptions\n",
    "user_input = \"not_a_number\"\n",
    "try:\n",
    "    number = int(user_input)\n",
    "    print(f\"Successfully converted: {number}\")\n",
    "except ValueError:\n",
    "    print(f\"Cannot convert '{user_input}' to integer\")"
   ]
  },
  {
   "cell_type": "markdown",
   "metadata": {},
   "source": [
    "## 3. Loops\n",
    "\n",
    "### While Loops (Indefinite Loops)"
   ]
  },
  {
   "cell_type": "code",
   "execution_count": 8,
   "metadata": {},
   "outputs": [
    {
     "name": "stdout",
     "output_type": "stream",
     "text": [
      "5\n",
      "4\n",
      "3\n",
      "2\n",
      "1\n",
      "Blastoff!\n",
      "Response: yes\n",
      "Response: maybe\n"
     ]
    }
   ],
   "source": [
    "# While loop example\n",
    "n = 5\n",
    "while n > 0:\n",
    "    print(n)\n",
    "    n = n - 1\n",
    "print(\"Blastoff!\")\n",
    "\n",
    "# While loop with user input simulation\n",
    "responses = ['yes', 'maybe', 'no']\n",
    "i = 0\n",
    "while i < len(responses) and responses[i] != 'no':\n",
    "    print(f\"Response: {responses[i]}\")\n",
    "    i += 1"
   ]
  },
  {
   "cell_type": "markdown",
   "metadata": {},
   "source": [
    "### For Loops (Definite Loops)"
   ]
  },
  {
   "cell_type": "code",
   "execution_count": 9,
   "metadata": {},
   "outputs": [
    {
     "name": "stdout",
     "output_type": "stream",
     "text": [
      "Count: 0\n",
      "Count: 1\n",
      "Count: 2\n",
      "Count: 3\n",
      "Count: 4\n",
      "Hello, Joseph!\n",
      "Hello, Glenn!\n",
      "Hello, Sally!\n",
      "b\n",
      "a\n",
      "n\n",
      "a\n",
      "n\n",
      "a\n"
     ]
    }
   ],
   "source": [
    "# For loop with range\n",
    "for i in range(5):\n",
    "    print(f\"Count: {i}\")\n",
    "\n",
    "# For loop with list\n",
    "friends = ['Joseph', 'Glenn', 'Sally']\n",
    "for friend in friends:\n",
    "    print(f\"Hello, {friend}!\")\n",
    "\n",
    "# For loop with string\n",
    "fruit = 'banana'\n",
    "for letter in fruit:\n",
    "    print(letter)"
   ]
  },
  {
   "cell_type": "markdown",
   "metadata": {},
   "source": [
    "## 4. Strings\n",
    "\n",
    "### String Basics"
   ]
  },
  {
   "cell_type": "code",
   "execution_count": 10,
   "metadata": {},
   "outputs": [
    {
     "name": "stdout",
     "output_type": "stream",
     "text": [
      "Hellothere\n",
      "Hello there\n",
      "124\n"
     ]
    }
   ],
   "source": [
    "# String concatenation\n",
    "str1 = \"Hello\"\n",
    "str2 = 'there'\n",
    "bob = str1 + str2\n",
    "print(bob)\n",
    "\n",
    "# Adding space\n",
    "greeting = str1 + ' ' + str2\n",
    "print(greeting)\n",
    "\n",
    "# String and number conversion\n",
    "str3 = '123'\n",
    "# str3 = str3 + 1  # This would cause an error!\n",
    "x = int(str3) + 1\n",
    "print(x)"
   ]
  },
  {
   "cell_type": "markdown",
   "metadata": {},
   "source": [
    "### String Slicing"
   ]
  },
  {
   "cell_type": "code",
   "execution_count": 11,
   "metadata": {},
   "outputs": [
    {
     "name": "stdout",
     "output_type": "stream",
     "text": [
      "Original string: Monty Python\n",
      "s[0:4]: Mont\n",
      "s[6:7]: P\n",
      "s[6:20]: Python\n",
      "s[:2]: Mo\n",
      "s[8:]: thon\n",
      "s[:]: Monty Python\n",
      "s[-6:]: Python\n",
      "s[:-7]: Monty\n"
     ]
    }
   ],
   "source": [
    "s = 'Monty Python'\n",
    "\n",
    "print(f\"Original string: {s}\")\n",
    "print(f\"s[0:4]: {s[0:4]}\")\n",
    "print(f\"s[6:7]: {s[6:7]}\")\n",
    "print(f\"s[6:20]: {s[6:20]}\")\n",
    "\n",
    "# Omitting start or end indices\n",
    "print(f\"s[:2]: {s[:2]}\")\n",
    "print(f\"s[8:]: {s[8:]}\")\n",
    "print(f\"s[:]: {s[:]}\")\n",
    "\n",
    "# Negative indices\n",
    "print(f\"s[-6:]: {s[-6:]}\")\n",
    "print(f\"s[:-7]: {s[:-7]}\")"
   ]
  },
  {
   "cell_type": "markdown",
   "metadata": {},
   "source": [
    "### String Methods and Operations"
   ]
  },
  {
   "cell_type": "code",
   "execution_count": 12,
   "metadata": {},
   "outputs": [
    {
     "name": "stdout",
     "output_type": "stream",
     "text": [
      "'n' in fruit: True\n",
      "'m' in fruit: False\n",
      "'nan' in fruit: True\n",
      "Found it!\n",
      "Original: Hello World\n",
      "Lower: hello world\n",
      "Upper: HELLO WORLD\n",
      "Length: 11\n",
      "Starts with 'Hello': True\n",
      "Replace 'World' with 'Python': Hello Python\n"
     ]
    }
   ],
   "source": [
    "# Using 'in' operator\n",
    "fruit = 'banana'\n",
    "print(f\"'n' in fruit: {'n' in fruit}\")\n",
    "print(f\"'m' in fruit: {'m' in fruit}\")\n",
    "print(f\"'nan' in fruit: {'nan' in fruit}\")\n",
    "\n",
    "if 'a' in fruit:\n",
    "    print('Found it!')\n",
    "\n",
    "# String methods\n",
    "text = \"Hello World\"\n",
    "print(f\"Original: {text}\")\n",
    "print(f\"Lower: {text.lower()}\")\n",
    "print(f\"Upper: {text.upper()}\")\n",
    "print(f\"Length: {len(text)}\")\n",
    "print(f\"Starts with 'Hello': {text.startswith('Hello')}\")\n",
    "print(f\"Replace 'World' with 'Python': {text.replace('World', 'Python')}\")"
   ]
  },
  {
   "cell_type": "markdown",
   "metadata": {},
   "source": [
    "## 5. Lists\n",
    "\n",
    "### List Basics"
   ]
  },
  {
   "cell_type": "code",
   "execution_count": 13,
   "metadata": {},
   "outputs": [
    {
     "name": "stdout",
     "output_type": "stream",
     "text": [
      "Friends: ['Joseph', 'Glenn', 'Sally']\n",
      "Numbers: [1, 2, 3, 4, 5]\n",
      "Mixed: ['Alice', 25, 5.6, True]\n",
      "Original: [2, 14, 26, 41, 63]\n",
      "After change: [2, 14, 28, 41, 63]\n"
     ]
    }
   ],
   "source": [
    "# Creating lists\n",
    "friends = ['Joseph', 'Glenn', 'Sally']\n",
    "numbers = [1, 2, 3, 4, 5]\n",
    "mixed = ['Alice', 25, 5.6, True]\n",
    "\n",
    "print(f\"Friends: {friends}\")\n",
    "print(f\"Numbers: {numbers}\")\n",
    "print(f\"Mixed: {mixed}\")\n",
    "\n",
    "# Lists are mutable\n",
    "lotto = [2, 14, 26, 41, 63]\n",
    "print(f\"Original: {lotto}\")\n",
    "lotto[2] = 28\n",
    "print(f\"After change: {lotto}\")"
   ]
  },
  {
   "cell_type": "markdown",
   "metadata": {},
   "source": [
    "### List Operations"
   ]
  },
  {
   "cell_type": "code",
   "execution_count": 40,
   "metadata": {},
   "outputs": [
    {
     "name": "stdout",
     "output_type": "stream",
     "text": [
      "a + b = [1, 2, 3, 4, 5, 6]\n",
      "Original a: [1, 2, 3]\n",
      "After append: ['apple', 'banana', 'orange']\n",
      "After insert: ['apple', 'grape', 'banana', 'orange']\n",
      "After remove: ['apple', 'grape', 'orange']\n",
      "Original: [9, 41, 12, 3, 74, 15]\n",
      "t[1:3]: [41, 12]\n",
      "t[:4]: [9, 41, 12, 3]\n",
      "t[3:]: [3, 74, 15]\n",
      "t[:]: [9, 41, 12, 3, 74, 15]\n",
      "t[::-1]: [15, 74, 3, 12, 41, 9]\n"
     ]
    }
   ],
   "source": [
    "# List concatenation\n",
    "a = [1, 2, 3]\n",
    "b = [4, 5, 6]\n",
    "c = a + b\n",
    "print(f\"a + b = {c}\")\n",
    "print(f\"Original a: {a}\")\n",
    "\n",
    "# List methods\n",
    "fruits = ['apple', 'banana']\n",
    "fruits.append('orange')\n",
    "print(f\"After append: {fruits}\")\n",
    "\n",
    "fruits.insert(1, 'grape')\n",
    "print(f\"After insert: {fruits}\")\n",
    "\n",
    "fruits.remove('banana')\n",
    "print(f\"After remove: {fruits}\")\n",
    "\n",
    "# List slicing\n",
    "t = [9, 41, 12, 3, 74, 15]\n",
    "print(f\"Original: {t}\")\n",
    "print(f\"t[1:3]: {t[1:3]}\")\n",
    "print(f\"t[:4]: {t[:4]}\")\n",
    "print(f\"t[3:]: {t[3:]}\")\n",
    "print(f\"t[:]: {t[:]}\")\n",
    "print(f\"t[::-1]: {t[::-1]}\")"
   ]
  },
  {
   "cell_type": "markdown",
   "metadata": {},
   "source": [
    "## 6. Tuples\n",
    "\n",
    "### Tuple Basics"
   ]
  },
  {
   "cell_type": "code",
   "execution_count": 50,
   "metadata": {},
   "outputs": [
    {
     "name": "stdout",
     "output_type": "stream",
     "text": [
      "Point: (3, 4)\n",
      "Colors: ('red', 'green', 'blue')\n",
      "Mixed: ('Alice', 25, True)\n",
      "Modified list: [9, 8, 6]\n",
      "Tuple (unchanged): (5, 4, 3)\n"
     ]
    }
   ],
   "source": [
    "# Creating tuples\n",
    "point = (3, 4)\n",
    "colors = ('red', 'green', 'blue')\n",
    "mixed_tuple = ('Alice', 25, True)\n",
    "\n",
    "print(f\"Point: {point}\")\n",
    "print(f\"Colors: {colors}\")\n",
    "print(f\"Mixed: {mixed_tuple}\")\n",
    "\n",
    "# Tuples are immutable\n",
    "x = [9, 8, 7]\n",
    "x[2] = 6  # This works for lists\n",
    "print(f\"Modified list: {x}\")\n",
    "\n",
    "z = (5, 4, 3)\n",
    "try:\n",
    "    z[2] = 0  # This would cause an error!\n",
    "except:\n",
    "    print(f\"Tuple (unchanged): {z}\")"
   ]
  },
  {
   "cell_type": "markdown",
   "metadata": {},
   "source": [
    "### Tuple Assignment"
   ]
  },
  {
   "cell_type": "code",
   "execution_count": 51,
   "metadata": {},
   "outputs": [
    {
     "name": "stdout",
     "output_type": "stream",
     "text": [
      "x = 4, y = fred\n",
      "a = 99, b = 98\n",
      "After swap: x = fred, y = 4\n",
      "Name: Bob, Age: 30, City: Calgary\n"
     ]
    }
   ],
   "source": [
    "# Tuple assignment\n",
    "(x, y) = (4, 'fred')\n",
    "print(f\"x = {x}, y = {y}\")\n",
    "\n",
    "# Parentheses are optional\n",
    "a, b = (99, 98)\n",
    "print(f\"a = {a}, b = {b}\")\n",
    "\n",
    "# Swapping variables\n",
    "x, y = y, x\n",
    "print(f\"After swap: x = {x}, y = {y}\")\n",
    "\n",
    "# Multiple assignment\n",
    "name, age, city = ('Bob', 30, 'Calgary')\n",
    "print(f\"Name: {name}, Age: {age}, City: {city}\")"
   ]
  },
  {
   "cell_type": "markdown",
   "metadata": {},
   "source": [
    "## 7. Dictionaries\n",
    "\n",
    "### Dictionary Basics"
   ]
  },
  {
   "cell_type": "code",
   "execution_count": 44,
   "metadata": {},
   "outputs": [
    {
     "name": "stdout",
     "output_type": "stream",
     "text": [
      "Purse: {'money': 12, 'candy': 3, 'tissues': 75}\n",
      "Candy count: 3\n",
      "Updated purse: {'money': 12, 'candy': 5, 'tissues': 75}\n",
      "Student: {'name': 'Alice', 'age': 20, 'major': 'Engineering'}\n"
     ]
    }
   ],
   "source": [
    "# Creating dictionaries\n",
    "purse = dict()\n",
    "purse['money'] = 12\n",
    "purse['candy'] = 3\n",
    "purse['tissues'] = 75\n",
    "\n",
    "print(f\"Purse: {purse}\")\n",
    "print(f\"Candy count: {purse['candy']}\")\n",
    "\n",
    "# Update dictionary value\n",
    "purse['candy'] = purse['candy'] + 2\n",
    "print(f\"Updated purse: {purse}\")\n",
    "\n",
    "# Alternative dictionary creation\n",
    "student = {'name': 'Alice', 'age': 20, 'major': 'Engineering'}\n",
    "print(f\"Student: {student}\")"
   ]
  },
  {
   "cell_type": "markdown",
   "metadata": {},
   "source": [
    "### Dictionary Methods"
   ]
  },
  {
   "cell_type": "code",
   "execution_count": 45,
   "metadata": {},
   "outputs": [
    {
     "name": "stdout",
     "output_type": "stream",
     "text": [
      "Name counts: {'csev': 2, 'cwen': 2, 'zqian': 1}\n",
      "csev: 2\n",
      "cwen: 2\n",
      "zqian: 1\n",
      "Keys: ['csev', 'cwen', 'zqian']\n",
      "Values: [2, 2, 1]\n",
      "Items: [('csev', 2), ('cwen', 2), ('zqian', 1)]\n"
     ]
    }
   ],
   "source": [
    "# Using get() method for safe access\n",
    "counts = dict()\n",
    "names = ['csev', 'cwen', 'csev', 'zqian', 'cwen']\n",
    "\n",
    "for name in names:\n",
    "    counts[name] = counts.get(name, 0) + 1\n",
    "\n",
    "print(f\"Name counts: {counts}\")\n",
    "\n",
    "# Iterating through dictionaries\n",
    "for key in counts:\n",
    "    print(f\"{key}: {counts[key]}\")\n",
    "\n",
    "# Dictionary methods\n",
    "print(f\"Keys: {list(counts.keys())}\")\n",
    "print(f\"Values: {list(counts.values())}\")\n",
    "print(f\"Items: {list(counts.items())}\")"
   ]
  },
  {
   "cell_type": "markdown",
   "metadata": {},
   "source": [
    "### Exercise 2\n",
    "Find the top 3 most common words in a text"
   ]
  },
  {
   "cell_type": "code",
   "execution_count": 58,
   "metadata": {},
   "outputs": [
    {
     "name": "stdout",
     "output_type": "stream",
     "text": [
      "Top 3 most common words:\n",
      "the: 3\n",
      "quick: 2\n",
      "fox: 2\n"
     ]
    }
   ],
   "source": [
    "# Sample text\n",
    "text = \"the quick brown fox jumps over the lazy dog the fox is quick\"\n",
    "\n",
    "# Your solution here\n",
    "words = text.split()\n",
    "word_counts = {}\n",
    "\n",
    "for word in words:\n",
    "    word_counts[word] = word_counts.get(word, 0) + 1\n",
    "\n",
    "# Sort by count (descending)\n",
    "sorted_words = sorted(word_counts.items(), key=lambda x: x[1], reverse=True)\n",
    "\n",
    "print(\"Top 3 most common words:\")\n",
    "for word, count in sorted_words[:3]:\n",
    "    print(f\"{word}: {count}\")\n",
    "\n",
    "    "
   ]
  },
  {
   "cell_type": "markdown",
   "metadata": {},
   "source": [
    "## 8. Sets\n",
    "\n",
    "### Set Operations"
   ]
  },
  {
   "cell_type": "code",
   "execution_count": 3,
   "metadata": {},
   "outputs": [
    {
     "name": "stdout",
     "output_type": "stream",
     "text": [
      "Primes: {2, 3, 5, 7}\n",
      "Odds: {1, 3, 5, 7, 9}\n",
      "Union (|): {1, 2, 3, 5, 7, 9}\n",
      "Intersection (&): {3, 5, 7}\n",
      "Difference (-): {2}\n",
      "Symmetric difference (^): {1, 2, 9}\n",
      "Original: [1, 2, 2, 3, 3, 3, 4, 4, 5]\n",
      "Unique: {1, 2, 3, 4, 5}\n"
     ]
    }
   ],
   "source": [
    "# Creating sets\n",
    "primes = {2, 3, 5, 7}\n",
    "odds = {1, 3, 5, 7, 9}\n",
    "\n",
    "print(f\"Primes: {primes}\")\n",
    "print(f\"Odds: {odds}\")\n",
    "\n",
    "# Set operations\n",
    "print(f\"Union (|): {primes | odds}\")\n",
    "print(f\"Intersection (&): {primes & odds}\")\n",
    "print(f\"Difference (-): {primes - odds}\")\n",
    "print(f\"Symmetric difference (^): {primes ^ odds}\")\n",
    "\n",
    "# Set from list (removes duplicates)\n",
    "numbers = [1, 2, 2, 3, 3, 3, 4, 4, 5]\n",
    "unique_numbers = set(numbers)\n",
    "print(f\"Original: {numbers}\")\n",
    "print(f\"Unique: {unique_numbers}\")"
   ]
  },
  {
   "cell_type": "markdown",
   "metadata": {},
   "source": [
    "## 9. Functions\n",
    "\n",
    "### Basic Functions"
   ]
  },
  {
   "cell_type": "code",
   "execution_count": 39,
   "metadata": {},
   "outputs": [
    {
     "name": "stdout",
     "output_type": "stream",
     "text": [
      "Help on function greet in module __main__:\n",
      "\n",
      "greet(name)\n",
      "    Function to greet a person\n",
      "\n",
      "Help on function add_numbers in module __main__:\n",
      "\n",
      "add_numbers(a, b)\n",
      "    Add two numbers and return the result\n",
      "\n",
      "Hello, Alice!\n",
      "5 + 3 = 8\n",
      "Hi, I'm Bob, 25 years old, from Calgary\n",
      "Hi, I'm Alice, 30 years old, from Calgary\n",
      "Hi, I'm Charlie, 35 years old, from Toronto\n"
     ]
    }
   ],
   "source": [
    "# Function definition and call\n",
    "def greet(name):\n",
    "    \"\"\"Function to greet a person\"\"\"\n",
    "    return f\"Hello, {name}!\"\n",
    "\n",
    "\n",
    "\n",
    "# Function with multiple parameters\n",
    "def add_numbers(a, b):\n",
    "    \"\"\"Add two numbers and return the result\"\"\"\n",
    "    return a + b\n",
    "\n",
    "# geeting Function documentations\n",
    "help(greet)\n",
    "help(add_numbers)\n",
    "\n",
    "# Function call\n",
    "message = greet('Alice')\n",
    "print(message)\n",
    "\n",
    "result = add_numbers(5, 3)\n",
    "print(f\"5 + 3 = {result}\")\n",
    "\n",
    "# Function with default parameters\n",
    "def introduce(name, age=25, city=\"Calgary\"):\n",
    "    return f\"Hi, I'm {name}, {age} years old, from {city}\"\n",
    "\n",
    "print(introduce(\"Bob\"))\n",
    "print(introduce(\"Alice\", 30))\n",
    "print(introduce(\"Charlie\", 35, \"Toronto\"))\n"
   ]
  },
  {
   "cell_type": "markdown",
   "metadata": {},
   "source": [
    "### Advanced Function Features"
   ]
  },
  {
   "cell_type": "code",
   "execution_count": 22,
   "metadata": {},
   "outputs": [
    {
     "name": "stdout",
     "output_type": "stream",
     "text": [
      "args = (1, 2, 3)\n",
      "kwargs = {'a': 4, 'b': 5}\n",
      "\n",
      "args = ('a',)\n",
      "kwargs = {'keyword': 2}\n",
      "\n",
      "Complex function call:\n",
      "Required: must_have\n",
      "Args: ('extra1', 'extra2')\n",
      "Default: custom\n",
      "Kwargs: {'key1': 'value1'}\n"
     ]
    }
   ],
   "source": [
    "# *args and **kwargs\n",
    "def catch_all(*args, **kwargs):\n",
    "    print(f\"args = {args}\")\n",
    "    print(f\"kwargs = {kwargs}\")\n",
    "\n",
    "catch_all(1, 2, 3, a=4, b=5)\n",
    "print()\n",
    "catch_all('a', keyword=2)\n",
    "\n",
    "# Function with mixed parameters\n",
    "def complex_function(required, *args, default=\"default\", **kwargs):\n",
    "    print(f\"Required: {required}\")\n",
    "    print(f\"Args: {args}\")\n",
    "    print(f\"Default: {default}\")\n",
    "    print(f\"Kwargs: {kwargs}\")\n",
    "\n",
    "print(\"\\nComplex function call:\")\n",
    "complex_function(\"must_have\", \"extra1\", \"extra2\", default=\"custom\", key1=\"value1\")"
   ]
  },
  {
   "cell_type": "markdown",
   "metadata": {},
   "source": [
    "## 10. List Comprehensions\n",
    "\n",
    "### Basic List Comprehensions"
   ]
  },
  {
   "cell_type": "code",
   "execution_count": null,
   "metadata": {},
   "outputs": [
    {
     "name": "stdout",
     "output_type": "stream",
     "text": [
      "Traditional: [0, 1, 4, 9, 16, 25, 36, 49, 64, 81, 100, 121]\n",
      "Comprehension: [0, 1, 4, 9, 16, 25, 36, 49, 64, 81, 100, 121]\n",
      "Even numbers: [0, 2, 4, 6, 8, 10, 12, 14, 16, 18]\n",
      "Even numbers multiplied: [0, 1, 4, 3, 8, 5, 12, 7, 16, 9, 20, 11, 24, 13, 28, 15, 32, 17, 36, 19]\n",
      "Word lengths: [5, 5, 6, 11]\n",
      "Long words (uppercase): ['PYTHON', 'PROGRAMMING']\n"
     ]
    }
   ],
   "source": [
    "# Traditional way\n",
    "squares_traditional = []\n",
    "for n in range(12):\n",
    "    squares_traditional.append(n ** 2)\n",
    "print(f\"Traditional: {squares_traditional}\")\n",
    "\n",
    "# List comprehension [exp for var in iterable *iterable_condition]\n",
    "squares_comprehension = [n ** 2 for n in range(12)]\n",
    "print(f\"Comprehension: {squares_comprehension}\")\n",
    "\n",
    "# More examples\n",
    "even_numbers = [x for x in range(20) if x % 2 == 0]\n",
    "print(f\"Even numbers: {even_numbers}\")\n",
    "\n",
    "even_numbers_multiplied = [x  if x % 2 == 1 else x*2 for x in range(20)]\n",
    "print(f\"Even numbers multiplied: {even_numbers_multiplied}\")\n",
    "\n",
    "words = ['hello', 'world', 'python', 'programming']\n",
    "lengths = [len(word) for word in words]\n",
    "print(f\"Word lengths: {lengths}\")\n",
    "\n",
    "uppercase_words = [word.upper() for word in words if len(word) > 5]\n",
    "print(f\"Long words (uppercase): {uppercase_words}\")"
   ]
  },
  {
   "cell_type": "markdown",
   "metadata": {},
   "source": [
    "### Other Comprehensions"
   ]
  },
  {
   "cell_type": "code",
   "execution_count": 14,
   "metadata": {},
   "outputs": [
    {
     "name": "stdout",
     "output_type": "stream",
     "text": [
      "Set comprehension: {0, 1, 64, 121, 4, 36, 100, 9, 16, 49, 81, 25}\n",
      "Dict comprehension: {0: 0, 1: 1, 2: 4, 3: 9, 4: 16, 5: 25}\n",
      "Dict comprehension 2: {0: 0, 2: 4, 4: 16}\n",
      "Dict comprehension 3: {0: 0, 1: 1, 2: 4, 3: 3, 4: 16, 5: 5}\n",
      "Generator: <generator object <genexpr> at 0x000001F8A5C7FD30>\n",
      "First 5 from generator: [0, 1, 4, 9, 16]\n",
      "First 5 from generator: []\n",
      "Matrix: [[0, 1, 2], [1, 2, 3], [2, 3, 4]]\n"
     ]
    }
   ],
   "source": [
    "# Set comprehension\n",
    "unique_squares = {n**2 for n in range(12)}\n",
    "print(f\"Set comprehension: {unique_squares}\")\n",
    "\n",
    "# Dictionary comprehension\n",
    "square_dict = {n: n**2 for n in range(6)}\n",
    "print(f\"Dict comprehension: {square_dict}\")\n",
    "\n",
    "# Dictionary comprehension with iterable condition\n",
    "square_dict_evens = {n: n**2 for n in range(6) if n%2==0}\n",
    "print(f\"Dict comprehension 2: {square_dict_evens}\")\n",
    "\n",
    "\n",
    "square_dict_evens_odds = {n: n**2 if n%2==0 else n for n in range(6)}\n",
    "print(f\"Dict comprehension 3: {square_dict_evens_odds}\")\n",
    "\n",
    "# Generator expression\n",
    "square_generator = (n**2 for n in range(12))\n",
    "#print(next(square_generator))\n",
    "#print(next(square_generator))\n",
    "#print(next(square_generator))\n",
    "print(f\"Generator: {square_generator}\")\n",
    "print(f\"First 5 from generator: {list(square_generator)[:5]}\")\n",
    "print(f\"First 5 from generator: {list(square_generator)[:5]}\")\n",
    "\n",
    "# Nested comprehension\n",
    "matrix = [[i+j for j in range(3)] for i in range(3)]\n",
    "print(f\"Matrix: {matrix}\")"
   ]
  },
  {
   "cell_type": "markdown",
   "metadata": {},
   "source": [
    "## 11. Modules and Imports"
   ]
  },
  {
   "cell_type": "code",
   "execution_count": 25,
   "metadata": {},
   "outputs": [
    {
     "name": "stdout",
     "output_type": "stream",
     "text": [
      "math.cos(math.pi) = -1.0\n",
      "cos(pi) = -1.0\n",
      "\n",
      "Math examples:\n",
      "sqrt(16) = 4.0\n",
      "pi = 3.141592653589793\n",
      "math.factorial(5) = 120\n"
     ]
    }
   ],
   "source": [
    "# Different ways to import modules\n",
    "\n",
    "# 1. Explicit module import\n",
    "import math\n",
    "result1 = math.cos(math.pi)\n",
    "print(f\"math.cos(math.pi) = {result1}\")\n",
    "\n",
    "# 2. Module import with alias\n",
    "import numpy as np  # Note: numpy might not be available\n",
    "# result2 = np.cos(np.pi)\n",
    "# print(f\"np.cos(np.pi) = {result2}\")\n",
    "\n",
    "# 3. Explicit import of specific functions\n",
    "from math import cos, pi, sqrt\n",
    "result3 = cos(pi)\n",
    "print(f\"cos(pi) = {result3}\")\n",
    "\n",
    "# 4. Import all (not recommended)\n",
    "# from math import *\n",
    "# result4 = sin(pi) ** 2 + cos(pi) ** 2\n",
    "# print(f\"sin²(π) + cos²(π) = {result4}\")\n",
    "\n",
    "# Using various math functions\n",
    "print(f\"\\nMath examples:\")\n",
    "print(f\"sqrt(16) = {sqrt(16)}\")\n",
    "print(f\"pi = {pi}\")\n",
    "print(f\"math.factorial(5) = {math.factorial(5)}\")"
   ]
  },
  {
   "cell_type": "markdown",
   "metadata": {},
   "source": [
    "## 12. File I/O\n",
    "\n",
    "### Reading Files"
   ]
  },
  {
   "cell_type": "code",
   "execution_count": 26,
   "metadata": {},
   "outputs": [
    {
     "name": "stdout",
     "output_type": "stream",
     "text": [
      "Sample file created successfully!\n"
     ]
    }
   ],
   "source": [
    "# Create a sample file for demonstration\n",
    "sample_content = \"\"\"From: alice@example.com\n",
    "Subject: Hello\n",
    "This is a test email.\n",
    "\n",
    "From: bob@example.com\n",
    "Subject: Meeting\n",
    "Let's meet tomorrow.\n",
    "\n",
    "From: charlie@example.com\n",
    "Subject: Project Update\n",
    "The project is going well.\"\"\"\n",
    "\n",
    "# Write sample file\n",
    "with open('sample_emails.txt', 'w') as f:\n",
    "    f.write(sample_content)\n",
    "\n",
    "print(\"Sample file created successfully!\")"
   ]
  },
  {
   "cell_type": "code",
   "execution_count": 27,
   "metadata": {},
   "outputs": [
    {
     "name": "stdout",
     "output_type": "stream",
     "text": [
      "Line Count: 11\n",
      "\n",
      "Lines starting with 'From:':\n",
      "From: alice@example.com\n",
      "From: bob@example.com\n",
      "From: charlie@example.com\n"
     ]
    }
   ],
   "source": [
    "# Count lines in a file\n",
    "try:\n",
    "    with open('sample_emails.txt', 'r') as fhand:\n",
    "        count = 0\n",
    "        for line in fhand:\n",
    "            count = count + 1\n",
    "        print(f'Line Count: {count}')\n",
    "except FileNotFoundError:\n",
    "    print(\"File not found!\")\n",
    "\n",
    "# Search through a file\n",
    "print(\"\\nLines starting with 'From:':\")\n",
    "try:\n",
    "    with open('sample_emails.txt', 'r') as fhand:\n",
    "        for line in fhand:\n",
    "            if line.startswith('From:'):\n",
    "                print(line.strip())  # strip() removes newline characters\n",
    "except FileNotFoundError:\n",
    "    print(\"File not found!\")"
   ]
  },
  {
   "cell_type": "markdown",
   "metadata": {},
   "source": [
    "### Writing Files"
   ]
  },
  {
   "cell_type": "code",
   "execution_count": 28,
   "metadata": {},
   "outputs": [
    {
     "name": "stdout",
     "output_type": "stream",
     "text": [
      "CSV file created!\n",
      "\n",
      "Contents of people.csv:\n",
      "Name,Age,City\n",
      "Alice,25,Calgary\n",
      "Bob,30,Toronto\n",
      "Charlie,35,Vancouver\n",
      "\n"
     ]
    }
   ],
   "source": [
    "# Writing to a file\n",
    "data_to_write = [\n",
    "    \"Name,Age,City\",\n",
    "    \"Alice,25,Calgary\",\n",
    "    \"Bob,30,Toronto\",\n",
    "    \"Charlie,35,Vancouver\"\n",
    "]\n",
    "\n",
    "with open('people.csv', 'w') as f:\n",
    "    for line in data_to_write:\n",
    "        f.write(line + '\\n')\n",
    "\n",
    "print(\"CSV file created!\")\n",
    "\n",
    "# Read it back to verify\n",
    "print(\"\\nContents of people.csv:\")\n",
    "with open('people.csv', 'r') as f:\n",
    "    content = f.read()\n",
    "    print(content)"
   ]
  },
  {
   "cell_type": "markdown",
   "metadata": {},
   "source": [
    "## 13. Practical Examples\n",
    "\n",
    "### Example 1: Word Frequency Analysis"
   ]
  },
  {
   "cell_type": "code",
   "execution_count": 29,
   "metadata": {},
   "outputs": [
    {
     "name": "stdout",
     "output_type": "stream",
     "text": [
      "Top 10 most common words:\n",
      "from: 3\n",
      "subject: 3\n",
      "is: 2\n",
      "project: 2\n",
      "alice@example.com: 1\n",
      "hello: 1\n",
      "this: 1\n",
      "a: 1\n",
      "test: 1\n",
      "email: 1\n"
     ]
    }
   ],
   "source": [
    "def analyze_text_file(filename):\n",
    "    \"\"\"Analyze word frequency in a text file\"\"\"\n",
    "    word_counts = {}\n",
    "    \n",
    "    try:\n",
    "        with open(filename, 'r') as fhand:\n",
    "            for line in fhand:\n",
    "                # Convert to lowercase and split into words\n",
    "                words = line.lower().strip().split()\n",
    "                for word in words:\n",
    "                    # Remove common punctuation\n",
    "                    word = word.strip('.,!?:;\"')\n",
    "                    if word:  # Skip empty strings\n",
    "                        word_counts[word] = word_counts.get(word, 0) + 1\n",
    "    \n",
    "        # Sort by frequency (descending)\n",
    "        sorted_words = sorted(word_counts.items(), key=lambda x: x[1], reverse=True)\n",
    "        \n",
    "        return sorted_words\n",
    "    \n",
    "    except FileNotFoundError:\n",
    "        print(f\"File '{filename}' not found!\")\n",
    "        return []\n",
    "\n",
    "# Analyze our sample email file\n",
    "word_freq = analyze_text_file('sample_emails.txt')\n",
    "\n",
    "print(\"Top 10 most common words:\")\n",
    "for word, count in word_freq[:10]:\n",
    "    print(f\"{word}: {count}\")"
   ]
  },
  {
   "cell_type": "markdown",
   "metadata": {},
   "source": [
    "### Example 2: Data Processing with Lists and Dictionaries"
   ]
  },
  {
   "cell_type": "code",
   "execution_count": 30,
   "metadata": {},
   "outputs": [
    {
     "name": "stdout",
     "output_type": "stream",
     "text": [
      "Student Grade Report:\n",
      "------------------------------------------------------------\n",
      "Name: Alice\n",
      "  Average: 87.75 (B)\n",
      "  Range: 78 - 96\n",
      "\n",
      "Name: Bob\n",
      "  Average: 83.50 (B)\n",
      "  Range: 79 - 88\n",
      "\n",
      "Name: Charlie\n",
      "  Average: 92.75 (A)\n",
      "  Range: 89 - 96\n",
      "\n",
      "Name: Diana\n",
      "  Average: 87.25 (B)\n",
      "  Range: 84 - 90\n",
      "\n"
     ]
    }
   ],
   "source": [
    "# Student grade processing\n",
    "students = [\n",
    "    {'name': 'Alice', 'grades': [85, 92, 78, 96]},\n",
    "    {'name': 'Bob', 'grades': [79, 85, 88, 82]},\n",
    "    {'name': 'Charlie', 'grades': [92, 96, 89, 94]},\n",
    "    {'name': 'Diana', 'grades': [88, 84, 90, 87]}\n",
    "]\n",
    "\n",
    "def calculate_statistics(students):\n",
    "    \"\"\"Calculate grade statistics for students\"\"\"\n",
    "    results = []\n",
    "    \n",
    "    for student in students:\n",
    "        name = student['name']\n",
    "        grades = student['grades']\n",
    "        \n",
    "        average = sum(grades) / len(grades)\n",
    "        highest = max(grades)\n",
    "        lowest = min(grades)\n",
    "        \n",
    "        # Determine letter grade\n",
    "        if average >= 90:\n",
    "            letter_grade = 'A'\n",
    "        elif average >= 80:\n",
    "            letter_grade = 'B'\n",
    "        elif average >= 70:\n",
    "            letter_grade = 'C'\n",
    "        elif average >= 60:\n",
    "            letter_grade = 'D'\n",
    "        else:\n",
    "            letter_grade = 'F'\n",
    "        \n",
    "        results.append({\n",
    "            'name': name,\n",
    "            'average': average,\n",
    "            'highest': highest,\n",
    "            'lowest': lowest,\n",
    "            'letter_grade': letter_grade\n",
    "        })\n",
    "    \n",
    "    return results\n",
    "\n",
    "# Calculate and display results\n",
    "results = calculate_statistics(students)\n",
    "\n",
    "print(\"Student Grade Report:\")\n",
    "print(\"-\" * 60)\n",
    "for result in results:\n",
    "    print(f\"Name: {result['name']}\")\n",
    "    print(f\"  Average: {result['average']:.2f} ({result['letter_grade']})\")\n",
    "    print(f\"  Range: {result['lowest']} - {result['highest']}\")\n",
    "    print()"
   ]
  },
  {
   "cell_type": "markdown",
   "metadata": {},
   "source": [
    "### Example 3: Using List Comprehensions for Data Processing"
   ]
  },
  {
   "cell_type": "code",
   "execution_count": 31,
   "metadata": {},
   "outputs": [
    {
     "name": "stdout",
     "output_type": "stream",
     "text": [
      "Celsius: [0, 10, 20, 25, 30, 35, -5, -10, 15, 22]\n",
      "Fahrenheit: [32.0, 50.0, 68.0, 77.0, 86.0, 95.0, 23.0, 14.0, 59.0, 71.6]\n",
      "Comfortable temperatures (°C): [20, 25, 22]\n",
      "Temperature categories: ['Cold', 'Cold', 'Mild', 'Hot', 'Hot', 'Hot', 'Freezing', 'Freezing', 'Mild', 'Mild']\n",
      "Category counts: {'Hot': 3, 'Cold': 2, 'Mild': 3, 'Freezing': 2}\n"
     ]
    }
   ],
   "source": [
    "# Temperature conversion and filtering\n",
    "celsius_temps = [0, 10, 20, 25, 30, 35, -5, -10, 15, 22]\n",
    "\n",
    "# Convert to Fahrenheit\n",
    "fahrenheit_temps = [(c * 9/5) + 32 for c in celsius_temps]\n",
    "print(f\"Celsius: {celsius_temps}\")\n",
    "print(f\"Fahrenheit: {fahrenheit_temps}\")\n",
    "\n",
    "# Filter for comfortable temperatures (20-25°C)\n",
    "comfortable_temps = [temp for temp in celsius_temps if 20 <= temp <= 25]\n",
    "print(f\"Comfortable temperatures (°C): {comfortable_temps}\")\n",
    "\n",
    "# Create temperature categories\n",
    "def categorize_temp(temp):\n",
    "    if temp < 0:\n",
    "        return \"Freezing\"\n",
    "    elif temp < 15:\n",
    "        return \"Cold\"\n",
    "    elif temp < 25:\n",
    "        return \"Mild\"\n",
    "    else:\n",
    "        return \"Hot\"\n",
    "\n",
    "temp_categories = [categorize_temp(temp) for temp in celsius_temps]\n",
    "print(f\"Temperature categories: {temp_categories}\")\n",
    "\n",
    "# Count categories using dictionary comprehension\n",
    "unique_categories = set(temp_categories)\n",
    "category_counts = {category: temp_categories.count(category) for category in unique_categories}\n",
    "print(f\"Category counts: {category_counts}\")"
   ]
  },
  {
   "cell_type": "markdown",
   "metadata": {},
   "source": [
    "## 14. Practice Exercises\n",
    "\n",
    "### Exercise 3: Email Analysis"
   ]
  },
  {
   "cell_type": "code",
   "execution_count": 32,
   "metadata": {},
   "outputs": [
    {
     "name": "stdout",
     "output_type": "stream",
     "text": [
      "Email addresses found:\n",
      "  alice@example.com\n",
      "  bob@example.com\n",
      "  charlie@example.com\n",
      "\n",
      "Domain counts:\n",
      "  example.com: 3\n"
     ]
    }
   ],
   "source": [
    "# Exercise: Analyze email addresses from our sample file\n",
    "# Task: Extract all email addresses and count domains\n",
    "\n",
    "def extract_emails_from_file(filename):\n",
    "    \"\"\"Extract email addresses from a file and analyze domains\"\"\"\n",
    "    emails = []\n",
    "    domains = {}\n",
    "    \n",
    "    try:\n",
    "        with open(filename, 'r') as f:\n",
    "            for line in f:\n",
    "                if line.startswith('From:'):\n",
    "                    # Extract email address\n",
    "                    email = line.split()[1]  # Get the email part after 'From:'\n",
    "                    emails.append(email)\n",
    "                    \n",
    "                    # Extract domain\n",
    "                    domain = email.split('@')[1]\n",
    "                    domains[domain] = domains.get(domain, 0) + 1\n",
    "    \n",
    "        return emails, domains\n",
    "    \n",
    "    except FileNotFoundError:\n",
    "        print(f\"File '{filename}' not found!\")\n",
    "        return [], {}\n",
    "\n",
    "# Your solution here\n",
    "emails, domains = extract_emails_from_file('sample_emails.txt')\n",
    "\n",
    "print(\"Email addresses found:\")\n",
    "for email in emails:\n",
    "    print(f\"  {email}\")\n",
    "\n",
    "print(f\"\\nDomain counts:\")\n",
    "for domain, count in domains.items():\n",
    "    print(f\"  {domain}: {count}\")"
   ]
  },
  {
   "cell_type": "markdown",
   "metadata": {},
   "source": [
    "### Exercise 4: Data Structures Challenge"
   ]
  },
  {
   "cell_type": "code",
   "execution_count": 33,
   "metadata": {},
   "outputs": [
    {
     "name": "stdout",
     "output_type": "stream",
     "text": [
      "\n",
      "Inventory:\n",
      "----------------------------------------\n",
      "Laptops: 15 @ $999.99 = $14999.85\n",
      "Mice: 50 @ $29.99 = $1499.50\n",
      "Keyboards: 25 @ $79.99 = $1999.75\n",
      "Monitors: 8 @ $299.99 = $2399.92\n",
      "\n",
      "Total inventory value: $20899.02\n",
      "\n",
      "Low stock items (< 10):\n",
      "  Monitors: 8 remaining\n"
     ]
    }
   ],
   "source": [
    "# Challenge: Create a simple inventory management system\n",
    "# Requirements:\n",
    "# 1. Store items with name, quantity, and price\n",
    "# 2. Add new items or update existing ones\n",
    "# 3. Calculate total inventory value\n",
    "# 4. Find items below a certain quantity (low stock)\n",
    "\n",
    "class Inventory:\n",
    "    def __init__(self):\n",
    "        self.items = {}\n",
    "    \n",
    "    def add_item(self, name, quantity, price):\n",
    "        \"\"\"Add or update an item in inventory\"\"\"\n",
    "        if name in self.items:\n",
    "            # Update existing item\n",
    "            self.items[name]['quantity'] += quantity\n",
    "        else:\n",
    "            # Add new item\n",
    "            self.items[name] = {'quantity': quantity, 'price': price}\n",
    "    \n",
    "    def get_total_value(self):\n",
    "        \"\"\"Calculate total inventory value\"\"\"\n",
    "        return sum(item['quantity'] * item['price'] for item in self.items.values())\n",
    "    \n",
    "    def low_stock_items(self, threshold=10):\n",
    "        \"\"\"Find items with stock below threshold\"\"\"\n",
    "        return {name: item for name, item in self.items.items() \n",
    "                if item['quantity'] < threshold}\n",
    "    \n",
    "    def display_inventory(self):\n",
    "        \"\"\"Display all items in inventory\"\"\"\n",
    "        print(\"\\nInventory:\")\n",
    "        print(\"-\" * 40)\n",
    "        for name, item in self.items.items():\n",
    "            total_value = item['quantity'] * item['price']\n",
    "            print(f\"{name}: {item['quantity']} @ ${item['price']:.2f} = ${total_value:.2f}\")\n",
    "\n",
    "# Test the inventory system\n",
    "inv = Inventory()\n",
    "\n",
    "# Add items\n",
    "inv.add_item('Laptops', 15, 999.99)\n",
    "inv.add_item('Mice', 50, 29.99)\n",
    "inv.add_item('Keyboards', 25, 79.99)\n",
    "inv.add_item('Monitors', 8, 299.99)\n",
    "\n",
    "# Display inventory\n",
    "inv.display_inventory()\n",
    "\n",
    "# Calculate total value\n",
    "print(f\"\\nTotal inventory value: ${inv.get_total_value():.2f}\")\n",
    "\n",
    "# Find low stock items\n",
    "low_stock = inv.low_stock_items()\n",
    "print(f\"\\nLow stock items (< 10):\")\n",
    "for name, item in low_stock.items():\n",
    "    print(f\"  {name}: {item['quantity']} remaining\")"
   ]
  },
  {
   "cell_type": "markdown",
   "metadata": {},
   "source": [
    "## 15. Summary and Best Practices\n",
    "\n",
    "### Key Python Concepts Covered\n",
    "\n",
    "1. **Variables and Data Types**: Dynamic typing, immutable vs mutable\n",
    "2. **Control Flow**: if/elif/else, for/while loops\n",
    "3. **Data Structures**:\n",
    "   - Lists: ordered, mutable sequences\n",
    "   - Tuples: ordered, immutable sequences\n",
    "   - Dictionaries: key-value pairs\n",
    "   - Sets: unordered, unique elements\n",
    "4. **Functions**: reusable code blocks with parameters\n",
    "5. **Comprehensions**: concise way to create lists, sets, dictionaries\n",
    "6. **File I/O**: reading and writing files\n",
    "7. **Error Handling**: try/except blocks\n",
    "\n",
    "### Best Practices\n",
    "\n",
    "1. **Use meaningful variable names**\n",
    "2. **Follow PEP 8 style guidelines**\n",
    "3. **Use list comprehensions for simple transformations**\n",
    "4. **Handle exceptions appropriately**\n",
    "5. **Use context managers (with statements) for file operations**\n",
    "6. **Write docstrings for functions**\n",
    "7. **Choose the right data structure for the task**\n",
    "\n",
    "### Next Steps\n",
    "\n",
    "- Practice with real datasets\n",
    "- Learn about classes and object-oriented programming\n",
    "- Explore Python libraries (pandas, numpy, matplotlib)\n",
    "- Study algorithms and data structures\n",
    "- Work on projects that interest you!"
   ]
  },
  {
   "cell_type": "markdown",
   "metadata": {},
   "source": [
    "## 16. Additional Practice Problems\n",
    "\n",
    "Try solving these problems to reinforce your understanding:"
   ]
  },
  {
   "cell_type": "code",
   "execution_count": 34,
   "metadata": {},
   "outputs": [
    {
     "name": "stdout",
     "output_type": "stream",
     "text": [
      "Second largest in [3, 1, 4, 1, 5, 9, 2, 6]: 6\n"
     ]
    }
   ],
   "source": [
    "# Problem 1: Write a function to find the second largest number in a list\n",
    "def second_largest(numbers):\n",
    "    \"\"\"Find the second largest number in a list\"\"\"\n",
    "    if len(numbers) < 2:\n",
    "        return None\n",
    "    \n",
    "    # Remove duplicates and sort\n",
    "    unique_numbers = list(set(numbers))\n",
    "    if len(unique_numbers) < 2:\n",
    "        return None\n",
    "    \n",
    "    unique_numbers.sort(reverse=True)\n",
    "    return unique_numbers[1]\n",
    "\n",
    "# Test\n",
    "test_list = [3, 1, 4, 1, 5, 9, 2, 6]\n",
    "print(f\"Second largest in {test_list}: {second_largest(test_list)}\")"
   ]
  },
  {
   "cell_type": "code",
   "execution_count": 35,
   "metadata": {},
   "outputs": [
    {
     "name": "stdout",
     "output_type": "stream",
     "text": [
      "a: ['apple', 'apricot', 'avocado']\n",
      "b: ['banana', 'blueberry']\n",
      "c: ['cherry']\n"
     ]
    }
   ],
   "source": [
    "# Problem 2: Create a function to group words by their first letter\n",
    "def group_by_first_letter(words):\n",
    "    \"\"\"Group words by their first letter\"\"\"\n",
    "    grouped = {}\n",
    "    \n",
    "    for word in words:\n",
    "        if word:  # Skip empty strings\n",
    "            first_letter = word[0].lower()\n",
    "            if first_letter not in grouped:\n",
    "                grouped[first_letter] = []\n",
    "            grouped[first_letter].append(word)\n",
    "    \n",
    "    return grouped\n",
    "\n",
    "# Test\n",
    "words = ['apple', 'banana', 'cherry', 'apricot', 'blueberry', 'avocado']\n",
    "result = group_by_first_letter(words)\n",
    "\n",
    "for letter, word_list in sorted(result.items()):\n",
    "    print(f\"{letter}: {word_list}\")"
   ]
  },
  {
   "cell_type": "code",
   "execution_count": 36,
   "metadata": {},
   "outputs": [
    {
     "name": "stdout",
     "output_type": "stream",
     "text": [
      "Calculator Demo:\n",
      "10 + 5 = 15\n",
      "10 - 3 = 7\n",
      "4 * 7 = 28\n",
      "15 / 3 = 5.0\n",
      "10 / 0 = Error: Division by zero\n"
     ]
    }
   ],
   "source": [
    "# Problem 3: Implement a simple calculator using functions\n",
    "def calculator():\n",
    "    \"\"\"Simple calculator with basic operations\"\"\"\n",
    "    \n",
    "    def add(x, y):\n",
    "        return x + y\n",
    "    \n",
    "    def subtract(x, y):\n",
    "        return x - y\n",
    "    \n",
    "    def multiply(x, y):\n",
    "        return x * y\n",
    "    \n",
    "    def divide(x, y):\n",
    "        if y == 0:\n",
    "            return \"Error: Division by zero\"\n",
    "        return x / y\n",
    "    \n",
    "    operations = {\n",
    "        '+': add,\n",
    "        '-': subtract,\n",
    "        '*': multiply,\n",
    "        '/': divide\n",
    "    }\n",
    "    \n",
    "    # Demo calculations\n",
    "    test_cases = [\n",
    "        (10, '+', 5),\n",
    "        (10, '-', 3),\n",
    "        (4, '*', 7),\n",
    "        (15, '/', 3),\n",
    "        (10, '/', 0)  # Test division by zero\n",
    "    ]\n",
    "    \n",
    "    print(\"Calculator Demo:\")\n",
    "    for x, op, y in test_cases:\n",
    "        if op in operations:\n",
    "            result = operations[op](x, y)\n",
    "            print(f\"{x} {op} {y} = {result}\")\n",
    "        else:\n",
    "            print(f\"Unknown operation: {op}\")\n",
    "\n",
    "# Run the calculator demo\n",
    "calculator()"
   ]
  }
 ],
 "metadata": {
  "kernelspec": {
   "display_name": "Python 3",
   "language": "python",
   "name": "python3"
  },
  "language_info": {
   "codemirror_mode": {
    "name": "ipython",
    "version": 3
   },
   "file_extension": ".py",
   "mimetype": "text/x-python",
   "name": "python",
   "nbconvert_exporter": "python",
   "pygments_lexer": "ipython3",
   "version": "3.13.7"
  },
  "orig_nbformat": 4
 },
 "nbformat": 4,
 "nbformat_minor": 2
}
