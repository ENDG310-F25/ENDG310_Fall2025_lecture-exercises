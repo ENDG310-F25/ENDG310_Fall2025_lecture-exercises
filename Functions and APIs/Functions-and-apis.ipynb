{
 "cells": [
  {
   "cell_type": "markdown",
   "metadata": {},
   "source": [
    "## User Defined Functions\n",
    "- Created by using the keyword __def__\n",
    "- Indentation is used to specify the block of code that belongs to the function\n",
    "- A function must be invoked (function call) for it to be executed\n",
    "- There is no limit on how many times you can call a function\n",
    "- This is known as the store and reuse pattern"
   ]
  },
  {
   "cell_type": "code",
   "execution_count": 46,
   "metadata": {},
   "outputs": [
    {
     "name": "stdout",
     "output_type": "stream",
     "text": [
      "Hello\n",
      "Yo\n",
      "7\n"
     ]
    }
   ],
   "source": [
    "x = 5\n",
    "print('Hello')\n",
    "\n",
    "def print_lyrics():\n",
    "    print(\"I'm a lumberjack and I'm okay.\")\n",
    "    print(\"I sleep all night and work all day.\")\n",
    "\n",
    "print('Yo')\n",
    "x = x + 2\n",
    "print(x)"
   ]
  },
  {
   "cell_type": "code",
   "execution_count": 3,
   "metadata": {},
   "outputs": [
    {
     "name": "stdout",
     "output_type": "stream",
     "text": [
      "Hello\n",
      "Yo\n",
      "I'm a lumberjack and I'm okay.\n",
      "I sleep all night and work all day.\n",
      "7\n"
     ]
    }
   ],
   "source": [
    "x = 5\n",
    "print('Hello')\n",
    "\n",
    "def print_lyrics():\n",
    "    print(\"I'm a lumberjack and I'm okay.\")\n",
    "    print(\"I sleep all night and work all day.\")\n",
    "\n",
    "print('Yo')\n",
    "print_lyrics()\n",
    "x = x + 2\n",
    "print(x)"
   ]
  },
  {
   "cell_type": "markdown",
   "metadata": {},
   "source": [
    "We define functions for bits of code that we use repeatedly in a code\n",
    "- make your own library of functions that you find you use repeatedly across multiple programs\n",
    "- you can also share this library with friends\n",
    "\n",
    "## Paramters VS Arguments\n",
    "Variables used within a function paranthese is refered to as 1 of 2 things:\n",
    "- __Parameters__: refers to the variables declared in the function definition header, these will be the handles used to reference the values passed over to the function when itis called\n",
    "- __Arguments__: refers to values and variables used in a function call within the parantheses following the function name, these will be the values passed over to the function and will be assigned the parameter names in the function definition for internal use in the function body\n"
   ]
  },
  {
   "cell_type": "code",
   "execution_count": 47,
   "metadata": {},
   "outputs": [],
   "source": [
    "# lang is refered to as a parameter\n",
    "def greet(lang):\n",
    "    if lang == 'es':\n",
    "        print('Hola')\n",
    "    elif lang == 'fr':\n",
    "        print('Bonjour')\n",
    "    else:\n",
    "        print('Hello')"
   ]
  },
  {
   "cell_type": "code",
   "execution_count": 48,
   "metadata": {},
   "outputs": [
    {
     "name": "stdout",
     "output_type": "stream",
     "text": [
      "Hola\n",
      "Bonjour\n",
      "Hello\n"
     ]
    }
   ],
   "source": [
    "# 'en', 'es', and 'fr' are constants passed as arguments to the function. The parameter 'lang' will hold the value of the constant sent to the function\n",
    "greet('es')\n",
    "greet('fr')\n",
    "greet('en')"
   ]
  },
  {
   "cell_type": "markdown",
   "metadata": {},
   "source": [
    "There is no limitiation on the number of parameters _theoretically_ ... we are still limited by other factors ... in python you can have up to ___255___ parameters defined\n",
    "\n",
    "In addition to the parameters a function can either:\n",
    "- Return nothing _(for example a function that displays info at the end of execution and does not have any useful/fruitful values to return to the caller)_ which is called a void function\n",
    "- Return a value _(for example a function to computes the average of the values in a list and returns it to called to be used in other calculations)_, or even multiple values\n",
    "\n"
   ]
  },
  {
   "cell_type": "code",
   "execution_count": 18,
   "metadata": {},
   "outputs": [
    {
     "name": "stdout",
     "output_type": "stream",
     "text": [
      "Bonjour Glenn\n",
      "Hello Sally\n"
     ]
    }
   ],
   "source": [
    "# This greeting function returns the string of the greeting message\n",
    "def fruitful_greet(lang):\n",
    "    if lang == 'es':\n",
    "        return 'Hola'\n",
    "    elif lang == 'fr':\n",
    "        return 'Bonjour'\n",
    "    else:\n",
    "        return 'Hello'\n",
    "    \n",
    "# This greeting function prints the string of the greeting message\n",
    "def non_fruitful_greet(lang , name):\n",
    "    if lang == 'es':\n",
    "        print('Hola' + ' '+ name)\n",
    "    elif lang == 'fr':\n",
    "        print('Bonjour' + ' ' + name)\n",
    "    else:\n",
    "        print('Hello' + ' ' + name)\n",
    "\n",
    "\n",
    "non_fruitful_greet('fr' , 'Glenn')\n",
    "\n",
    "print(fruitful_greet('en') , 'Sally')\n"
   ]
  },
  {
   "cell_type": "markdown",
   "metadata": {},
   "source": [
    "When returning more than 1 value, we can return them as:\n",
    "- Create a list and return it as a single item\n",
    "- Create a tuple and return it as single item\n",
    "- Return multiple values in the return statement separated by ',' and they will automatically be converted to a tuple"
   ]
  },
  {
   "cell_type": "code",
   "execution_count": null,
   "metadata": {},
   "outputs": [
    {
     "name": "stdout",
     "output_type": "stream",
     "text": [
      "<class 'list'>\n",
      "[1, 5, 15, 3.0]\n",
      "<class 'tuple'>\n",
      "(1, 5, 15, 3.0)\n",
      "<class 'tuple'>\n",
      "(1, 5, 15, 3.0)\n"
     ]
    }
   ],
   "source": [
    "def stats_list(numbers):\n",
    "    return [min(numbers), max(numbers), sum(numbers), sum(numbers)/len(numbers)]\n",
    "\n",
    "\n",
    "def stats_tuple(numbers):\n",
    "    return (min(numbers), max(numbers), sum(numbers), sum(numbers)/len(numbers))\n",
    "\n",
    "\n",
    "def stats(numbers):\n",
    "    return min(numbers), max(numbers), sum(numbers), sum(numbers)/len(numbers)\n",
    "\n",
    "print(type(stats_list([1,2,3,4,5])))\n",
    "print(stats_list([1,2,3,4,5]))\n",
    "\n",
    "print(type(stats_tuple([1,2,3,4,5])))\n",
    "print(stats_tuple([1,2,3,4,5]))\n",
    "\n",
    "print(type(stats([1,2,3,4,5])))\n",
    "print(stats([1,2,3,4,5]))"
   ]
  },
  {
   "cell_type": "markdown",
   "metadata": {},
   "source": [
    "## Documentation\n",
    "Proper Coding Hygiene requires the use of docstrings for documentation"
   ]
  },
  {
   "cell_type": "code",
   "execution_count": 51,
   "metadata": {},
   "outputs": [
    {
     "name": "stdout",
     "output_type": "stream",
     "text": [
      "Bonjour\n",
      "Help on function greet in module __main__:\n",
      "\n",
      "greet(lang)\n",
      "    The Greet function accept a language among \"es\" or \"fr\".\n",
      "    It prints a greeting message int that language.\n",
      "    If the given language is something else, it will print an English greeting\n",
      "    \n",
      "    parameter:\n",
      "    lang:\n",
      "\n"
     ]
    }
   ],
   "source": [
    "def greet(lang):\n",
    "    '''The Greet function accept a language among \"es\" or \"fr\".\n",
    "       It prints a greeting message int that language.\n",
    "       If the given language is something else, it will print an English greeting\n",
    "    '''\n",
    "\n",
    "    if lang == 'es':\n",
    "        print('Hola')\n",
    "    elif lang == 'fr':\n",
    "        print('Bonjour')\n",
    "    else:\n",
    "        print('Hello')\n",
    "\n",
    "greet('fr')\n",
    "help(greet)"
   ]
  },
  {
   "cell_type": "markdown",
   "metadata": {},
   "source": [
    "## Advanced function concepts\n",
    "By default, arguments sent to a function will get assigned in the order they appear in the parameters list, and the number of arguments must match the number of parameters\n",
    "different behaviour can be enforced by using:\n",
    "- default values in the parameters list\n",
    "- using parameter name assignment (keyword)\n",
    "- combining keywords and positional assignment\n",
    "- using variable size parameters list"
   ]
  },
  {
   "cell_type": "code",
   "execution_count": 9,
   "metadata": {},
   "outputs": [
    {
     "name": "stdout",
     "output_type": "stream",
     "text": [
      "1 2 3\n",
      "1 2 1\n",
      "1 2 3\n",
      "1 2 3\n"
     ]
    }
   ],
   "source": [
    "def f(a, b, c=1):\n",
    "    print(a, b, c)\n",
    "\n",
    "f(1, 2, 3)\n",
    "f(1, 2)\n",
    "f(c=3, a=1, b=2)\n",
    "f(1, c=3, b=2)"
   ]
  },
  {
   "cell_type": "code",
   "execution_count": 15,
   "metadata": {},
   "outputs": [
    {
     "name": "stdout",
     "output_type": "stream",
     "text": [
      "args =  (1, 2, 3, 4, 5)\n",
      "kwargs =  {'a': 6, 'b': 7}\n",
      "args =  ([1, 2, 3], {'pi': 3.14})\n",
      "kwargs =  {}\n",
      "args =  (1, 2, 3)\n",
      "kwargs =  {'pi': 3.14}\n"
     ]
    }
   ],
   "source": [
    "def catch_all(*args, **kwargs):\n",
    "    print(\"args = \", args)\n",
    "    print(\"kwargs = \", kwargs)\n",
    "\n",
    "catch_all(1,2,3,4,5, a=6, b=7)\n",
    "\n",
    "inputs = [1,2,3]\n",
    "keywords = {'pi' : 3.14}\n",
    "\n",
    "catch_all(inputs,keywords)\n",
    "catch_all(*inputs,**keywords)"
   ]
  },
  {
   "cell_type": "markdown",
   "metadata": {},
   "source": [
    "We can also do the reverse, if a function definition has a set parameter list, and we want to pass a list as an argument ... we can unpack the list"
   ]
  },
  {
   "cell_type": "code",
   "execution_count": 11,
   "metadata": {},
   "outputs": [
    {
     "name": "stdout",
     "output_type": "stream",
     "text": [
      "1 2 3 4\n",
      "5 6 7 8\n"
     ]
    }
   ],
   "source": [
    "def func(a, b, c, d):\n",
    "    print(a, b, c, d)\n",
    "\n",
    "args=[1 , 2 , 3 , 4]\n",
    "kwargs = {'a':5, 'b':6, 'c':7, 'd':8}\n",
    "func(*args)\n",
    "func(**kwargs)"
   ]
  },
  {
   "cell_type": "code",
   "execution_count": 4,
   "metadata": {},
   "outputs": [
    {
     "name": "stdout",
     "output_type": "stream",
     "text": [
      "1 5 3 4 () 5 6 {}\n",
      "1 2 3 4 () 5 6 {}\n",
      "1 2 3 4 ('x', 'y') 5 7 {}\n",
      "1 2 3 4 () 5 6 {'g': 9}\n",
      "1 2 3 4 ('x',) 5 6 {'h': 10}\n",
      "1 2 3 4 (5,) 5 6 {}\n"
     ]
    }
   ],
   "source": [
    "def demo(a, b=2, /, c=2, d=4, *args, e, f=6, **kw):\n",
    "    print(a, b, c, d, args, e, f, kw)\n",
    "\n",
    "demo(1, 5, 3, 4, e=5)                       # no extras\n",
    "demo(1, 2, 3, e=5)                          # uses default d=4\n",
    "demo(1, 2, 3, 4, 'x', 'y', e=5, f=7)        # packs args=('x','y')\n",
    "demo(1, 2, 3, e=5, g=9)                     # packs kw={'g':9}\n",
    "demo(1, 2, *(3, 4, 'x'), e=5, **{'h': 10})  # mix of * and **\n",
    "demo(1, 2, 3, *[4,5], *(), e=5)             # multiple *iterables\n",
    "\n"
   ]
  },
  {
   "cell_type": "markdown",
   "metadata": {},
   "source": [
    "## Lambda Functions\n",
    "\n",
    "Lambda functions gives you the ability to create a function on the spot in-line without naming it\n",
    "- useful for simple one use functions\n",
    "    - why do we need one use functions? \\\n",
    "    Some key functions in python require a function as an argument, these functions passed over are usually mapping, filtering, or some other sort of very simple function that you wouldn't use more than once\n",
    "- if a function is going to be used repeatedly do not use lambda"
   ]
  },
  {
   "cell_type": "code",
   "execution_count": 54,
   "metadata": {},
   "outputs": [
    {
     "name": "stdout",
     "output_type": "stream",
     "text": [
      "3\n",
      "11\n"
     ]
    }
   ],
   "source": [
    "def add(x,y):\n",
    "    return x+y\n",
    "\n",
    "print(add(1,2))\n",
    "addl = lambda x,y: x + y\n",
    "print(addl(5,6))"
   ]
  },
  {
   "cell_type": "markdown",
   "metadata": {},
   "source": [
    "### The real power of lambdas\n",
    "The previous example is not realy the best:\n",
    "- we created the lambda and gave it a name on a separate line\n",
    "    - makes it more like a function definition\n",
    "Instead lets take a look at something more useful ...\n",
    "The sorted function in python has a parameter called _'key'_, which is of type function, meaning that key can only be assigned a function as input. The function passed over provides the values that the sorted function will sort the collection with\n",
    "\n",
    "In the following example we want the sorted function to sort a list of dictionaries based on first name value, so we create a lambda function that returns the first name to be used as key"
   ]
  },
  {
   "cell_type": "code",
   "execution_count": 21,
   "metadata": {},
   "outputs": [
    {
     "name": "stdout",
     "output_type": "stream",
     "text": [
      "[{'first': 'Alan', 'last': 'Turing', 'YOB': 1980}, {'first': 'Grace', 'last': 'Hopper', 'YOB': 1906}, {'first': 'Guido', 'last': 'Van Rossum', 'YOB': 1956}]\n",
      "[{'first': 'Grace', 'last': 'Hopper', 'YOB': 1906}, {'first': 'Alan', 'last': 'Turing', 'YOB': 1980}, {'first': 'Guido', 'last': 'Van Rossum', 'YOB': 1956}]\n",
      "[{'first': 'Grace', 'last': 'Hopper', 'YOB': 1906}, {'first': 'Guido', 'last': 'Van Rossum', 'YOB': 1956}, {'first': 'Alan', 'last': 'Turing', 'YOB': 1980}]\n"
     ]
    }
   ],
   "source": [
    "data = [{'first': 'Guido' , 'last' : 'Van Rossum' , 'YOB' : 1956},\n",
    "        {'first': 'Grace' , 'last' : 'Hopper' , 'YOB' : 1906},\n",
    "        {'first': 'Alan' , 'last' : 'Turing' , 'YOB' : 1980}]\n",
    "\n",
    "data1 = sorted(data , key = lambda item:item['first'])\n",
    "print(data1)\n",
    "data2 = sorted(data , key = lambda item:len(item['last']))\n",
    "print(data2)\n",
    "data3 = sorted(data , key = lambda item:item['YOB'])\n",
    "print(data3)"
   ]
  },
  {
   "cell_type": "markdown",
   "metadata": {},
   "source": [
    "Other useful use cases of lambdas are in mapping and filtering using the map and filter functions, these 2 functions take a function as an argument to apply to each element in the collection provided"
   ]
  },
  {
   "cell_type": "code",
   "execution_count": 59,
   "metadata": {},
   "outputs": [
    {
     "name": "stdout",
     "output_type": "stream",
     "text": [
      "[11, 12, 13, 14]\n",
      "[1, 2, 3, 4]\n"
     ]
    }
   ],
   "source": [
    "counters = [1,2,3,4]\n",
    "print(list(map(lambda x:x+10,counters)))\n",
    "\n",
    "print(list(filter(lambda x:x>0,range(-5,5))))\n"
   ]
  },
  {
   "cell_type": "markdown",
   "metadata": {},
   "source": []
  }
 ],
 "metadata": {
  "kernelspec": {
   "display_name": "Python 3",
   "language": "python",
   "name": "python3"
  },
  "language_info": {
   "codemirror_mode": {
    "name": "ipython",
    "version": 3
   },
   "file_extension": ".py",
   "mimetype": "text/x-python",
   "name": "python",
   "nbconvert_exporter": "python",
   "pygments_lexer": "ipython3",
   "version": "3.13.7"
  }
 },
 "nbformat": 4,
 "nbformat_minor": 2
}
