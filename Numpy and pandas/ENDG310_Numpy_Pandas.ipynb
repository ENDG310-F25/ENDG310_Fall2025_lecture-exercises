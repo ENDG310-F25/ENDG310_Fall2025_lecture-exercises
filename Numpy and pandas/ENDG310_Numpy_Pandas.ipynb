{
  "cells": [
    {
      "cell_type": "markdown",
      "metadata": {},
      "source": [
        "# ENDG 310 — NumPy & Pandas Notebook\n",
        "_A hands‑on companion to the lecture on files, NumPy, Pandas, and a touch of Matplotlib._\n",
        "\n",
        "Generated: 2025-09-17 18:09"
      ]
    },
    {
      "cell_type": "markdown",
      "metadata": {},
      "source": [
        "## Environment setup\n",
        "This cell installs/imports the libraries used throughout the notebook. If you're in VSCode, run cells with `Shift+Enter` or the ▶️ button."
      ]
    },
    {
      "cell_type": "code",
      "execution_count": 1,
      "metadata": {},
      "outputs": [
        {
          "name": "stdout",
          "output_type": "stream",
          "text": [
            "Python: 3.13.7\n",
            "Platform: Windows-11-10.0.26100-SP0\n",
            "NumPy: 2.3.3\n",
            "Pandas: 2.3.2\n"
          ]
        }
      ],
      "source": [
        "# If you're on a fresh environment, uncomment the next lines to install packages.\n",
        "# %pip install numpy pandas matplotlib\n",
        "\n",
        "import sys, platform\n",
        "import numpy as np\n",
        "import pandas as pd\n",
        "import matplotlib.pyplot as plt\n",
        "\n",
        "print('Python:', sys.version.split()[0])\n",
        "print('Platform:', platform.platform())\n",
        "print('NumPy:', np.__version__)\n",
        "print('Pandas:', pd.__version__)\n"
      ]
    },
    {
      "cell_type": "markdown",
      "metadata": {},
      "source": [
        "## NumPy — efficient fixed‑type arrays\n",
        "Python lists are flexible but **dynamic** and slower for large numeric work. NumPy arrays are fixed‑type, contiguous buffers with fast vectorized operations (ufuncs)."
      ]
    },
    {
      "cell_type": "markdown",
      "metadata": {},
      "source": [
        "### Creating arrays"
      ]
    },
    {
      "cell_type": "code",
      "execution_count": 2,
      "metadata": {},
      "outputs": [
        {
          "name": "stdout",
          "output_type": "stream",
          "text": [
            "[1 4 2 5 3] int64\n",
            "[3.14 4.   2.   3.  ] float64\n",
            "[1. 2. 3. 4.] float32\n",
            "zeros: [0 0 0 0 0 0 0 0 0 0]\n",
            "randint(3x3):\n",
            " [[5 2 4]\n",
            " [8 1 8]\n",
            " [1 3 9]]\n"
          ]
        }
      ],
      "source": [
        "# From Python lists (NumPy will infer dtype and upcast if needed)\n",
        "a = np.array([1, 4, 2, 5, 3])\n",
        "b = np.array([3.14, 4, 2, 3])                # upcast to float\n",
        "c = np.array([1, 2, 3, 4], dtype='float32')  # explicit dtype\n",
        "print(a, a.dtype)\n",
        "print(b, b.dtype)\n",
        "print(c, c.dtype)\n",
        "\n",
        "# From scratch\n",
        "z = np.zeros(10, dtype=int)\n",
        "r = np.random.randint(0, 10, (3, 3))  # 3x3 with values in [0,10)\n",
        "print('zeros:', z)\n",
        "print('randint(3x3):\\n', r)\n"
      ]
    },
    {
      "cell_type": "markdown",
      "metadata": {},
      "source": [
        "### Array attributes, indexing, slicing, reshaping"
      ]
    },
    {
      "cell_type": "code",
      "execution_count": 3,
      "metadata": {},
      "outputs": [
        {
          "name": "stdout",
          "output_type": "stream",
          "text": [
            "x: [ 0  1  2  3  4  5  6  7  8  9 10 11]\n",
            "shape: (12,) ndim: 1 dtype: int64\n",
            "X:\n",
            " [[ 0  1  2  3]\n",
            " [ 4  5  6  7]\n",
            " [ 8  9 10 11]]\n",
            "X[0, 0] = 0\n",
            "X[:, 1] = [1 5 9]\n",
            "X[1:3, 2:4] =\n",
            " [[ 6  7]\n",
            " [10 11]]\n"
          ]
        }
      ],
      "source": [
        "x = np.arange(12)              # 0..11\n",
        "print('x:', x)\n",
        "print('shape:', x.shape, 'ndim:', x.ndim, 'dtype:', x.dtype)\n",
        "\n",
        "# reshape into 3x4\n",
        "X = x.reshape(3, 4)\n",
        "print('X:\\n', X)\n",
        "\n",
        "# indexing & slicing\n",
        "print('X[0, 0] =', X[0, 0])\n",
        "print('X[:, 1] =', X[:, 1])       # column 1\n",
        "print('X[1:3, 2:4] =\\n', X[1:3, 2:4])\n"
      ]
    },
    {
      "cell_type": "markdown",
      "metadata": {},
      "source": [
        "### Vectorized operations (ufuncs) & broadcasting"
      ]
    },
    {
      "cell_type": "code",
      "execution_count": 4,
      "metadata": {},
      "outputs": [
        {
          "name": "stdout",
          "output_type": "stream",
          "text": [
            "u: [0.         1.57079633 3.14159265 4.71238898 6.28318531]\n",
            "sin(u): [ 0.0000000e+00  1.0000000e+00  1.2246468e-16 -1.0000000e+00\n",
            " -2.4492936e-16]\n",
            "u**2 + 3*u: [ 0.          7.17979008 19.29438236 36.34377684 58.32797353]\n",
            "M:\n",
            " [[ 0  1  2  3]\n",
            " [ 4  5  6  7]\n",
            " [ 8  9 10 11]]\n",
            "v: [ 10   0 -10   5]\n",
            "M + v =\n",
            " [[10  1 -8  8]\n",
            " [14  5 -4 12]\n",
            " [18  9  0 16]]\n"
          ]
        }
      ],
      "source": [
        "u = np.linspace(0, 2*np.pi, 5)\n",
        "print('u:', u)\n",
        "print('sin(u):', np.sin(u))   # unary ufunc\n",
        "print('u**2 + 3*u:', u**2 + 3*u)\n",
        "\n",
        "# broadcasting: add a 1D vector to each row of a 2D array\n",
        "M = np.arange(12).reshape(3, 4)\n",
        "v = np.array([10, 0, -10, 5])\n",
        "print('M:\\n', M)\n",
        "print('v:', v)\n",
        "print('M + v =\\n', M + v)    # v is broadcast across rows\n"
      ]
    },
    {
      "cell_type": "markdown",
      "metadata": {},
      "source": [
        "### Sorting and aggregations"
      ]
    },
    {
      "cell_type": "code",
      "execution_count": 5,
      "metadata": {},
      "outputs": [
        {
          "name": "stdout",
          "output_type": "stream",
          "text": [
            "arr: [0.5760826  0.1348489  0.75195204 0.75262349 0.10698515 0.73312304\n",
            " 0.52960005 0.95152139 0.79515452 0.36773838]\n",
            "sorted via np.sort: [0.10698515 0.1348489  0.36773838 0.52960005 0.5760826  0.73312304\n",
            " 0.75195204 0.75262349 0.79515452 0.95152139]\n",
            "min / max / sum: 0.10698514672918025 0.9515213916665697 5.699629564773704\n"
          ]
        }
      ],
      "source": [
        "arr = np.random.random(10)\n",
        "print('arr:', arr)\n",
        "print('sorted via np.sort:', np.sort(arr))   # returns a sorted copy\n",
        "print('min / max / sum:', arr.min(), arr.max(), arr.sum())\n"
      ]
    },
    {
      "cell_type": "markdown",
      "metadata": {},
      "source": [
        "### Quick Matplotlib check (single plot)\n",
        "When using VSCode notebooks, the plot will appear under the cell."
      ]
    },
    {
      "cell_type": "code",
      "execution_count": 51,
      "metadata": {},
      "outputs": [
        {
          "data": {
            "image/png": "[encoded data removed]",
            "text/plain": [
              "<Figure size 640x480 with 1 Axes>"
            ]
          },
          "metadata": {},
          "output_type": "display_data"
        }
      ],
      "source": [
        "# NOTE: single plot; no custom styles or colors as per guidelines\n",
        "import numpy as np\n",
        "import matplotlib.pyplot as plt\n",
        "\n",
        "x = np.linspace(0, 10, 200)\n",
        "plt.figure()\n",
        "plt.plot(x, np.sin(x))\n",
        "plt.title('Sine wave')\n",
        "plt.xlabel('x')\n",
        "plt.ylabel('sin(x)')\n",
        "plt.show()\n"
      ]
    },
    {
      "cell_type": "markdown",
      "metadata": {},
      "source": [
        "## Pandas — labeled 1D/2D data structures\n",
        "- **Series**: 1D labeled array (values + explicit index)\n",
        "- **DataFrame**: 2D table (columns are Series); behaves like a dict of columns and like a 2D array."
      ]
    },
    {
      "cell_type": "markdown",
      "metadata": {},
      "source": [
        "### Series basics"
      ]
    },
    {
      "cell_type": "code",
      "execution_count": 13,
      "metadata": {},
      "outputs": [
        {
          "name": "stdout",
          "output_type": "stream",
          "text": [
            "a    0.25\n",
            "b    0.50\n",
            "c    0.75\n",
            "d    1.00\n",
            "dtype: float64\n",
            "Value at b: 0.5\n",
            "Slice explicit a..c (inclusive):\n",
            " a    0.25\n",
            "b    0.50\n",
            "c    0.75\n",
            "dtype: float64\n",
            "Mask (values > 0.3 and < 0.9):\n",
            " b    0.50\n",
            "c    0.75\n",
            "dtype: float64\n"
          ]
        }
      ],
      "source": [
        "# Construct a Series with a custom index\n",
        "s = pd.Series([0.25, 0.5, 0.75, 1.0], index=['a', 'b', 'c', 'd'])\n",
        "print(s)\n",
        "print('Value at b:', s['b'])\n",
        "print('Slice explicit a..c (inclusive):\\n', s['a':'c'])\n",
        "print('Mask (values > 0.3 and < 0.9):\\n', s[(s > 0.3) & (s < 0.9)])\n"
      ]
    },
    {
      "cell_type": "markdown",
      "metadata": {},
      "source": [
        "### DataFrame construction"
      ]
    },
    {
      "cell_type": "code",
      "execution_count": 54,
      "metadata": {},
      "outputs": [
        {
          "data": {
            "text/plain": [
              "California    38332521\n",
              "Texas         26448193\n",
              "New York      19651127\n",
              "Florida       19552860\n",
              "dtype: int64"
            ]
          },
          "metadata": {},
          "output_type": "display_data"
        },
        {
          "data": {
            "text/html": [
              "<div>\n",
              "<style scoped>\n",
              "    .dataframe tbody tr th:only-of-type {\n",
              "        vertical-align: middle;\n",
              "    }\n",
              "\n",
              "    .dataframe tbody tr th {\n",
              "        vertical-align: top;\n",
              "    }\n",
              "\n",
              "    .dataframe thead th {\n",
              "        text-align: right;\n",
              "    }\n",
              "</style>\n",
              "<table border=\"1\" class=\"dataframe\">\n",
              "  <thead>\n",
              "    <tr style=\"text-align: right;\">\n",
              "      <th></th>\n",
              "      <th>population</th>\n",
              "      <th>area</th>\n",
              "    </tr>\n",
              "  </thead>\n",
              "  <tbody>\n",
              "    <tr>\n",
              "      <th>California</th>\n",
              "      <td>38332521</td>\n",
              "      <td>423967</td>\n",
              "    </tr>\n",
              "    <tr>\n",
              "      <th>Texas</th>\n",
              "      <td>26448193</td>\n",
              "      <td>695662</td>\n",
              "    </tr>\n",
              "    <tr>\n",
              "      <th>New York</th>\n",
              "      <td>19651127</td>\n",
              "      <td>141297</td>\n",
              "    </tr>\n",
              "    <tr>\n",
              "      <th>Florida</th>\n",
              "      <td>19552860</td>\n",
              "      <td>170312</td>\n",
              "    </tr>\n",
              "    <tr>\n",
              "      <th>Illinois</th>\n",
              "      <td>12882135</td>\n",
              "      <td>149995</td>\n",
              "    </tr>\n",
              "  </tbody>\n",
              "</table>\n",
              "</div>"
            ],
            "text/plain": [
              "            population    area\n",
              "California    38332521  423967\n",
              "Texas         26448193  695662\n",
              "New York      19651127  141297\n",
              "Florida       19552860  170312\n",
              "Illinois      12882135  149995"
            ]
          },
          "metadata": {},
          "output_type": "display_data"
        },
        {
          "name": "stdout",
          "output_type": "stream",
          "text": [
            "Index: ['California', 'Texas', 'New York', 'Florida', 'Illinois']\n",
            "Columns: ['population', 'area']\n"
          ]
        },
        {
          "data": {
            "text/html": [
              "<div>\n",
              "<style scoped>\n",
              "    .dataframe tbody tr th:only-of-type {\n",
              "        vertical-align: middle;\n",
              "    }\n",
              "\n",
              "    .dataframe tbody tr th {\n",
              "        vertical-align: top;\n",
              "    }\n",
              "\n",
              "    .dataframe thead th {\n",
              "        text-align: right;\n",
              "    }\n",
              "</style>\n",
              "<table border=\"1\" class=\"dataframe\">\n",
              "  <thead>\n",
              "    <tr style=\"text-align: right;\">\n",
              "      <th></th>\n",
              "      <th>Population</th>\n",
              "      <th>Area</th>\n",
              "    </tr>\n",
              "  </thead>\n",
              "  <tbody>\n",
              "    <tr>\n",
              "      <th>California</th>\n",
              "      <td>38332521</td>\n",
              "      <td>423967</td>\n",
              "    </tr>\n",
              "    <tr>\n",
              "      <th>Texas</th>\n",
              "      <td>26448193</td>\n",
              "      <td>695662</td>\n",
              "    </tr>\n",
              "    <tr>\n",
              "      <th>New York</th>\n",
              "      <td>19651127</td>\n",
              "      <td>141297</td>\n",
              "    </tr>\n",
              "    <tr>\n",
              "      <th>Florida</th>\n",
              "      <td>19552860</td>\n",
              "      <td>170312</td>\n",
              "    </tr>\n",
              "    <tr>\n",
              "      <th>Illinois</th>\n",
              "      <td>12882135</td>\n",
              "      <td>149995</td>\n",
              "    </tr>\n",
              "  </tbody>\n",
              "</table>\n",
              "</div>"
            ],
            "text/plain": [
              "            Population    Area\n",
              "California    38332521  423967\n",
              "Texas         26448193  695662\n",
              "New York      19651127  141297\n",
              "Florida       19552860  170312\n",
              "Illinois      12882135  149995"
            ]
          },
          "metadata": {},
          "output_type": "display_data"
        },
        {
          "name": "stdout",
          "output_type": "stream",
          "text": [
            "1    b\n",
            "3    c\n",
            "dtype: object\n",
            "2    a\n",
            "1    b\n",
            "dtype: object\n",
            "3    c\n",
            "2    a\n",
            "dtype: object\n",
            "100    5\n",
            "200    5\n",
            "300    5\n",
            "dtype: int64\n"
          ]
        }
      ],
      "source": [
        "# From dicts / Series / arrays\n",
        "population = pd.Series({'California': 38332521, 'Texas': 26448193,\n",
        "                        'New York': 19651127, 'Florida': 19552860, 'Illinois': 12882135})\n",
        "display(population[\"California\":\"Florida\"])\n",
        "area = pd.Series({'California': 423967, 'Texas': 695662, 'New York': 141297,\n",
        "                  'Florida': 170312, 'Illinois': 149995})\n",
        "states = pd.DataFrame({'population': population, 'area': area})\n",
        "display(states)\n",
        "print('Index:', states.index.tolist())\n",
        "print('Columns:', states.columns.tolist())\n",
        "array2d = np.array([population.values,area.values]).transpose()\n",
        "\n",
        "statesfromarray = pd.DataFrame(array2d,columns=[\"Population\",\"Area\"],index=[\"California\",\"Texas\",\"New York\",\"Florida\",\"Illinois\"])\n",
        "display(statesfromarray)\n",
        "\n",
        "temp =pd.Series({2:'a', 1:'b', 3:'c'})\n",
        "print(temp[1:3])\n",
        "print(temp[0:2])\n",
        "temp = pd.Series({2:'a', 1:'b', 3:'c'}, index=[3, 2])\n",
        "print(temp)\n",
        "temp = pd.Series(5, index=[100, 200, 300])\n",
        "print(temp)\n"
      ]
    },
    {
      "cell_type": "markdown",
      "metadata": {},
      "source": [
        "### Data selection: dictionary‑like and 2D‑array‑like\n",
        "- Column selection behaves like a dictionary (`df['col']`).\n",
        "- Row selection and slicing have **two indexers**:\n",
        "  - `loc` → label‑based (explicit index)\n",
        "  - `iloc` → position‑based (implicit integer index)"
      ]
    },
    {
      "cell_type": "code",
      "execution_count": 55,
      "metadata": {},
      "outputs": [
        {
          "name": "stdout",
          "output_type": "stream",
          "text": [
            "California    423967\n",
            "Texas         695662\n",
            "New York      141297\n",
            "Florida       170312\n",
            "Illinois      149995\n",
            "Name: area, dtype: int64\n"
          ]
        },
        {
          "data": {
            "text/html": [
              "<div>\n",
              "<style scoped>\n",
              "    .dataframe tbody tr th:only-of-type {\n",
              "        vertical-align: middle;\n",
              "    }\n",
              "\n",
              "    .dataframe tbody tr th {\n",
              "        vertical-align: top;\n",
              "    }\n",
              "\n",
              "    .dataframe thead th {\n",
              "        text-align: right;\n",
              "    }\n",
              "</style>\n",
              "<table border=\"1\" class=\"dataframe\">\n",
              "  <thead>\n",
              "    <tr style=\"text-align: right;\">\n",
              "      <th></th>\n",
              "      <th>population</th>\n",
              "      <th>area</th>\n",
              "      <th>density</th>\n",
              "    </tr>\n",
              "  </thead>\n",
              "  <tbody>\n",
              "    <tr>\n",
              "      <th>California</th>\n",
              "      <td>38332521</td>\n",
              "      <td>423967</td>\n",
              "      <td>90.413926</td>\n",
              "    </tr>\n",
              "    <tr>\n",
              "      <th>Texas</th>\n",
              "      <td>26448193</td>\n",
              "      <td>695662</td>\n",
              "      <td>38.018740</td>\n",
              "    </tr>\n",
              "    <tr>\n",
              "      <th>New York</th>\n",
              "      <td>19651127</td>\n",
              "      <td>141297</td>\n",
              "      <td>139.076746</td>\n",
              "    </tr>\n",
              "    <tr>\n",
              "      <th>Florida</th>\n",
              "      <td>19552860</td>\n",
              "      <td>170312</td>\n",
              "      <td>114.806121</td>\n",
              "    </tr>\n",
              "    <tr>\n",
              "      <th>Illinois</th>\n",
              "      <td>12882135</td>\n",
              "      <td>149995</td>\n",
              "      <td>85.883763</td>\n",
              "    </tr>\n",
              "  </tbody>\n",
              "</table>\n",
              "</div>"
            ],
            "text/plain": [
              "            population    area     density\n",
              "California    38332521  423967   90.413926\n",
              "Texas         26448193  695662   38.018740\n",
              "New York      19651127  141297  139.076746\n",
              "Florida       19552860  170312  114.806121\n",
              "Illinois      12882135  149995   85.883763"
            ]
          },
          "metadata": {},
          "output_type": "display_data"
        },
        {
          "name": "stdout",
          "output_type": "stream",
          "text": [
            "loc[\"California\"]\n",
            " population    3.833252e+07\n",
            "area          4.239670e+05\n",
            "density       9.041393e+01\n",
            "Name: California, dtype: float64\n",
            "iloc[0]\n",
            " population    3.833252e+07\n",
            "area          4.239670e+05\n",
            "density       9.041393e+01\n",
            "Name: California, dtype: float64\n"
          ]
        },
        {
          "data": {
            "text/html": [
              "<div>\n",
              "<style scoped>\n",
              "    .dataframe tbody tr th:only-of-type {\n",
              "        vertical-align: middle;\n",
              "    }\n",
              "\n",
              "    .dataframe tbody tr th {\n",
              "        vertical-align: top;\n",
              "    }\n",
              "\n",
              "    .dataframe thead th {\n",
              "        text-align: right;\n",
              "    }\n",
              "</style>\n",
              "<table border=\"1\" class=\"dataframe\">\n",
              "  <thead>\n",
              "    <tr style=\"text-align: right;\">\n",
              "      <th></th>\n",
              "      <th>population</th>\n",
              "      <th>density</th>\n",
              "    </tr>\n",
              "  </thead>\n",
              "  <tbody>\n",
              "    <tr>\n",
              "      <th>California</th>\n",
              "      <td>38332521</td>\n",
              "      <td>90.413926</td>\n",
              "    </tr>\n",
              "    <tr>\n",
              "      <th>Texas</th>\n",
              "      <td>26448193</td>\n",
              "      <td>38.018740</td>\n",
              "    </tr>\n",
              "    <tr>\n",
              "      <th>New York</th>\n",
              "      <td>19651127</td>\n",
              "      <td>139.076746</td>\n",
              "    </tr>\n",
              "    <tr>\n",
              "      <th>Florida</th>\n",
              "      <td>19552860</td>\n",
              "      <td>114.806121</td>\n",
              "    </tr>\n",
              "  </tbody>\n",
              "</table>\n",
              "</div>"
            ],
            "text/plain": [
              "            population     density\n",
              "California    38332521   90.413926\n",
              "Texas         26448193   38.018740\n",
              "New York      19651127  139.076746\n",
              "Florida       19552860  114.806121"
            ]
          },
          "metadata": {},
          "output_type": "display_data"
        },
        {
          "data": {
            "text/html": [
              "<div>\n",
              "<style scoped>\n",
              "    .dataframe tbody tr th:only-of-type {\n",
              "        vertical-align: middle;\n",
              "    }\n",
              "\n",
              "    .dataframe tbody tr th {\n",
              "        vertical-align: top;\n",
              "    }\n",
              "\n",
              "    .dataframe thead th {\n",
              "        text-align: right;\n",
              "    }\n",
              "</style>\n",
              "<table border=\"1\" class=\"dataframe\">\n",
              "  <thead>\n",
              "    <tr style=\"text-align: right;\">\n",
              "      <th></th>\n",
              "      <th>population</th>\n",
              "      <th>area</th>\n",
              "    </tr>\n",
              "  </thead>\n",
              "  <tbody>\n",
              "    <tr>\n",
              "      <th>California</th>\n",
              "      <td>38332521</td>\n",
              "      <td>423967</td>\n",
              "    </tr>\n",
              "    <tr>\n",
              "      <th>Texas</th>\n",
              "      <td>26448193</td>\n",
              "      <td>695662</td>\n",
              "    </tr>\n",
              "    <tr>\n",
              "      <th>New York</th>\n",
              "      <td>19651127</td>\n",
              "      <td>141297</td>\n",
              "    </tr>\n",
              "  </tbody>\n",
              "</table>\n",
              "</div>"
            ],
            "text/plain": [
              "            population    area\n",
              "California    38332521  423967\n",
              "Texas         26448193  695662\n",
              "New York      19651127  141297"
            ]
          },
          "metadata": {},
          "output_type": "display_data"
        },
        {
          "data": {
            "text/plain": [
              "population    2.644819e+07\n",
              "area          6.956620e+05\n",
              "density       3.801874e+01\n",
              "Name: Texas, dtype: float64"
            ]
          },
          "metadata": {},
          "output_type": "display_data"
        }
      ],
      "source": [
        "# Column selection (dict-like)\n",
        "print(states['area'].head())\n",
        "\n",
        "# Add a derived column (vectorized op + index alignment)\n",
        "states['density'] = states['population'] / states['area']\n",
        "display(states)\n",
        "\n",
        "# loc: label-based; iloc: position-based\n",
        "print('loc[\"California\"]\\n', states.loc['California'])\n",
        "print('iloc[0]\\n', states.iloc[0])\n",
        "\n",
        "# loc slicing is inclusive on the stop label\n",
        "display(states.loc['California':'Florida', ['population', 'density']])\n",
        "\n",
        "# iloc slicing excludes the stop position\n",
        "display(states.iloc[0:3, 0:2])\n",
        "display(states.iloc[1])\n"
      ]
    },
    {
      "cell_type": "markdown",
      "metadata": {},
      "source": [
        "### Alignment and arithmetic\n",
        "Operations align on index/columns automatically. The result uses the union of labels."
      ]
    },
    {
      "cell_type": "code",
      "execution_count": 45,
      "metadata": {},
      "outputs": [
        {
          "name": "stdout",
          "output_type": "stream",
          "text": [
            "A:\n",
            " 0    2\n",
            "1    4\n",
            "2    6\n",
            "dtype: int64\n",
            "B:\n",
            " 1    1\n",
            "2    3\n",
            "3    5\n",
            "dtype: int64\n",
            "A + B (aligned on index):\n",
            " 0    NaN\n",
            "1    5.0\n",
            "2    9.0\n",
            "3    NaN\n",
            "dtype: float64\n"
          ]
        }
      ],
      "source": [
        "A = pd.Series([2, 4, 6], index=[0, 1, 2])\n",
        "B = pd.Series([1, 3, 5], index=[1, 2, 3])\n",
        "print('A:\\n', A)\n",
        "print('B:\\n', B)\n",
        "print('A + B (aligned on index):\\n', A + B)\n"
      ]
    },
    {
      "cell_type": "markdown",
      "metadata": {},
      "source": [
        "### Handling missing data (NaN)\n",
        "Use `isnull()`, `dropna()`, and `fillna()`.\n",
        "- `dropna(axis='rows' or 'columns')`, `thresh=` to keep rows/cols with at least `thresh` non‑NA values.\n",
        "- `fillna` with constants or statistics (mean/median, etc.)."
      ]
    },
    {
      "cell_type": "code",
      "execution_count": 50,
      "metadata": {},
      "outputs": [
        {
          "data": {
            "text/html": [
              "<div>\n",
              "<style scoped>\n",
              "    .dataframe tbody tr th:only-of-type {\n",
              "        vertical-align: middle;\n",
              "    }\n",
              "\n",
              "    .dataframe tbody tr th {\n",
              "        vertical-align: top;\n",
              "    }\n",
              "\n",
              "    .dataframe thead th {\n",
              "        text-align: right;\n",
              "    }\n",
              "</style>\n",
              "<table border=\"1\" class=\"dataframe\">\n",
              "  <thead>\n",
              "    <tr style=\"text-align: right;\">\n",
              "      <th></th>\n",
              "      <th>A</th>\n",
              "      <th>B</th>\n",
              "      <th>C</th>\n",
              "    </tr>\n",
              "  </thead>\n",
              "  <tbody>\n",
              "    <tr>\n",
              "      <th>0</th>\n",
              "      <td>1.0</td>\n",
              "      <td>4.0</td>\n",
              "      <td>x</td>\n",
              "    </tr>\n",
              "    <tr>\n",
              "      <th>1</th>\n",
              "      <td>NaN</td>\n",
              "      <td>5.0</td>\n",
              "      <td>y</td>\n",
              "    </tr>\n",
              "    <tr>\n",
              "      <th>2</th>\n",
              "      <td>3.0</td>\n",
              "      <td>NaN</td>\n",
              "      <td>None</td>\n",
              "    </tr>\n",
              "    <tr>\n",
              "      <th>3</th>\n",
              "      <td>NaN</td>\n",
              "      <td>7.0</td>\n",
              "      <td>z</td>\n",
              "    </tr>\n",
              "  </tbody>\n",
              "</table>\n",
              "</div>"
            ],
            "text/plain": [
              "     A    B     C\n",
              "0  1.0  4.0     x\n",
              "1  NaN  5.0     y\n",
              "2  3.0  NaN  None\n",
              "3  NaN  7.0     z"
            ]
          },
          "metadata": {},
          "output_type": "display_data"
        },
        {
          "name": "stdout",
          "output_type": "stream",
          "text": [
            "isnull():\n",
            "        A      B      C\n",
            "0  False  False  False\n",
            "1   True  False  False\n",
            "2  False   True   True\n",
            "3   True  False  False\n",
            "\n",
            "Drop columns with < 3 non-NA values:\n"
          ]
        },
        {
          "data": {
            "text/html": [
              "<div>\n",
              "<style scoped>\n",
              "    .dataframe tbody tr th:only-of-type {\n",
              "        vertical-align: middle;\n",
              "    }\n",
              "\n",
              "    .dataframe tbody tr th {\n",
              "        vertical-align: top;\n",
              "    }\n",
              "\n",
              "    .dataframe thead th {\n",
              "        text-align: right;\n",
              "    }\n",
              "</style>\n",
              "<table border=\"1\" class=\"dataframe\">\n",
              "  <thead>\n",
              "    <tr style=\"text-align: right;\">\n",
              "      <th></th>\n",
              "      <th>B</th>\n",
              "      <th>C</th>\n",
              "    </tr>\n",
              "  </thead>\n",
              "  <tbody>\n",
              "    <tr>\n",
              "      <th>0</th>\n",
              "      <td>4.0</td>\n",
              "      <td>x</td>\n",
              "    </tr>\n",
              "    <tr>\n",
              "      <th>1</th>\n",
              "      <td>5.0</td>\n",
              "      <td>y</td>\n",
              "    </tr>\n",
              "    <tr>\n",
              "      <th>2</th>\n",
              "      <td>NaN</td>\n",
              "      <td>None</td>\n",
              "    </tr>\n",
              "    <tr>\n",
              "      <th>3</th>\n",
              "      <td>7.0</td>\n",
              "      <td>z</td>\n",
              "    </tr>\n",
              "  </tbody>\n",
              "</table>\n",
              "</div>"
            ],
            "text/plain": [
              "     B     C\n",
              "0  4.0     x\n",
              "1  5.0     y\n",
              "2  NaN  None\n",
              "3  7.0     z"
            ]
          },
          "metadata": {},
          "output_type": "display_data"
        },
        {
          "data": {
            "text/html": [
              "<div>\n",
              "<style scoped>\n",
              "    .dataframe tbody tr th:only-of-type {\n",
              "        vertical-align: middle;\n",
              "    }\n",
              "\n",
              "    .dataframe tbody tr th {\n",
              "        vertical-align: top;\n",
              "    }\n",
              "\n",
              "    .dataframe thead th {\n",
              "        text-align: right;\n",
              "    }\n",
              "</style>\n",
              "<table border=\"1\" class=\"dataframe\">\n",
              "  <thead>\n",
              "    <tr style=\"text-align: right;\">\n",
              "      <th></th>\n",
              "      <th>A</th>\n",
              "      <th>B</th>\n",
              "      <th>C</th>\n",
              "    </tr>\n",
              "  </thead>\n",
              "  <tbody>\n",
              "    <tr>\n",
              "      <th>0</th>\n",
              "      <td>1.0</td>\n",
              "      <td>4.000000</td>\n",
              "      <td>x</td>\n",
              "    </tr>\n",
              "    <tr>\n",
              "      <th>1</th>\n",
              "      <td>2.0</td>\n",
              "      <td>5.000000</td>\n",
              "      <td>y</td>\n",
              "    </tr>\n",
              "    <tr>\n",
              "      <th>2</th>\n",
              "      <td>3.0</td>\n",
              "      <td>5.333333</td>\n",
              "      <td>missing</td>\n",
              "    </tr>\n",
              "    <tr>\n",
              "      <th>3</th>\n",
              "      <td>2.0</td>\n",
              "      <td>7.000000</td>\n",
              "      <td>z</td>\n",
              "    </tr>\n",
              "  </tbody>\n",
              "</table>\n",
              "</div>"
            ],
            "text/plain": [
              "     A         B        C\n",
              "0  1.0  4.000000        x\n",
              "1  2.0  5.000000        y\n",
              "2  3.0  5.333333  missing\n",
              "3  2.0  7.000000        z"
            ]
          },
          "metadata": {},
          "output_type": "display_data"
        }
      ],
      "source": [
        "df = pd.DataFrame({\n",
        "    'A': [1, np.nan, 3, None],\n",
        "    'B': [4, 5, np.nan, 7],\n",
        "    'C': ['x', 'y', None, 'z']\n",
        "})\n",
        "display(df)\n",
        "\n",
        "print('isnull():\\n', df.isnull())\n",
        "\n",
        "# Drop columns with too many missing values\n",
        "print('\\nDrop columns with < 3 non-NA values:')\n",
        "display(df.dropna(axis='columns', thresh=3))\n",
        "\n",
        "# Fill numeric NaNs with column means (where applicable)\n",
        "df_filled = df.copy()\n",
        "for col in df_filled.select_dtypes(include='number'):\n",
        "    df_filled[col] = df_filled[col].fillna(df_filled[col].mean())\n",
        "# Fill object NaNs with a placeholder\n",
        "for col in df_filled.select_dtypes(exclude='number'):\n",
        "    df_filled[col] = df_filled[col].fillna('missing')\n",
        "display(df_filled)\n"
      ]
    },
    {
      "cell_type": "markdown",
      "metadata": {},
      "source": [
        "## Practice — short exercises\n",
        "Try these without peeking at the hints.\n",
        "\n",
        "1. **NumPy broadcasting:** Create a `(4, 3)` array of integers and add a length‑3 vector to every row.\n",
        "2. **NumPy ufunc:** Generate 100 values from `0` to `2π` and compute `sin(x)**2 + cos(x)**2`.\n",
        "3. **Pandas selection:** From the `states` DataFrame, return rows where `density > states['density'].median()` and only the `['population','density']` columns.\n",
        "4. **Missing data:** From `df` above, drop rows with fewer than 2 non‑NA values, then fill the remaining NaNs in numeric columns with medians."
      ]
    },
    {
      "cell_type": "markdown",
      "metadata": {},
      "source": [
        "### (Optional) Hints"
      ]
    },
    {
      "cell_type": "code",
      "execution_count": null,
      "metadata": {},
      "outputs": [],
      "source": [
        "# 1) Broadcast: arr + vec, where arr.shape == (4, 3) and vec.shape == (3,)\n",
        "# 2) Use np.linspace and ufuncs\n",
        "# 3) Use boolean masks with .loc, and list of columns\n",
        "# 4) df.dropna(thresh=...), then df[col].fillna(df[col].median()) for numeric cols\n"
      ]
    },
    {
      "cell_type": "markdown",
      "metadata": {},
      "source": [
        "## VSCode tips\n",
        "- Run one cell at a time or all cells using the Run All command.\n",
        "- Use Variable Explorer (in the Python extension) to inspect arrays and DataFrames.\n",
        "- Restart the kernel if imports or variables get into a weird state."
      ]
    }
  ],
  "metadata": {
    "kernelspec": {
      "display_name": "Python 3",
      "language": "python",
      "name": "python3"
    },
    "language_info": {
      "codemirror_mode": {
        "name": "ipython",
        "version": 3
      },
      "file_extension": ".py",
      "mimetype": "text/x-python",
      "name": "python",
      "nbconvert_exporter": "python",
      "pygments_lexer": "ipython3",
      "version": "3.13.7"
    }
  },
  "nbformat": 4,
  "nbformat_minor": 5
}
