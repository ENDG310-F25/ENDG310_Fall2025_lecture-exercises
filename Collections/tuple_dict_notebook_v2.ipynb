{
 "cells": [
  {
   "cell_type": "markdown",
   "metadata": {},
   "source": [
    "# Tuples and Dictionaries with zip, map, and filter\n",
    "A comprehensive guide with practical examples"
   ]
  },
  {
   "cell_type": "markdown",
   "metadata": {},
   "source": [
    "## 1. Tuples Basics"
   ]
  },
  {
   "cell_type": "code",
   "execution_count": 5,
   "metadata": {},
   "outputs": [
    {
     "name": "stdout",
     "output_type": "stream",
     "text": [
      "Basic tuple: (10, 20)\n",
      "Accessing elements: Alice 30\n",
      "Sorted RGB: (0, 128, 255)\n",
      "rgb_color remains unchanged: (255, 128, 0)\n",
      "Unpacked: Alice, 30, Engineer\n"
     ]
    }
   ],
   "source": [
    "# Tuples are immutable sequences\n",
    "coordinates = (10, 20)\n",
    "rgb_color = (255, 128, 0)\n",
    "person = (\"Alice\", 30, \"Engineer\")\n",
    "\n",
    "rgb_sorted = tuple(sorted(rgb_color))  # Sorts the tuple\n",
    "\n",
    "print(\"Basic tuple:\", coordinates)\n",
    "print(\"Accessing elements:\", person[0], person[1])\n",
    "print(\"Sorted RGB:\", rgb_sorted)\n",
    "print(\"rgb_color remains unchanged:\", rgb_color )\n",
    "\n",
    "# Tuple unpacking\n",
    "name, age, job = person\n",
    "print(f\"Unpacked: {name}, {age}, {job}\")"
   ]
  },
  {
   "cell_type": "code",
   "execution_count": 2,
   "metadata": {},
   "outputs": [
    {
     "name": "stdout",
     "output_type": "stream",
     "text": [
      "Stats: min=8, max=42, avg=25.00\n"
     ]
    }
   ],
   "source": [
    "# Multiple return values using tuples\n",
    "def get_stats(numbers):\n",
    "    \"\"\"Return min, max, and average as a tuple\"\"\"\n",
    "    return min(numbers), max(numbers), sum(numbers) / len(numbers)\n",
    "\n",
    "data = [15, 42, 8, 23, 37]\n",
    "min_val, max_val, avg_val = get_stats(data)\n",
    "print(f\"Stats: min={min_val}, max={max_val}, avg={avg_val:.2f}\")"
   ]
  },
  {
   "cell_type": "markdown",
   "metadata": {},
   "source": [
    "## 2. Dictionaries Basics"
   ]
  },
  {
   "cell_type": "code",
   "execution_count": null,
   "metadata": {},
   "outputs": [],
   "source": [
    "# Dictionaries are key-value pairs\n",
    "student = {\n",
    "    \"name\": \"Bob\",\n",
    "    \"age\": 22,\n",
    "    \"grades\": [85, 90, 88],\n",
    "    \"major\": \"Computer Science\"\n",
    "}\n",
    "\n",
    "print(\"Student:\", student[\"name\"])\n",
    "print(\"Grades:\", student[\"grades\"])\n",
    "\n",
    "# Dictionary methods\n",
    "print(\"Keys:\", list(student.keys()))\n",
    "print(\"Values:\", list(student.values()))\n",
    "print(\"Items:\", list(student.items()))"
   ]
  },
  {
   "cell_type": "markdown",
   "metadata": {},
   "source": [
    "## 3. Using zip()"
   ]
  },
  {
   "cell_type": "code",
   "execution_count": 7,
   "metadata": {},
   "outputs": [
    {
     "name": "stdout",
     "output_type": "stream",
     "text": [
      "Zipped: [('Alice', 25, 'New York'), ('Bob', 30, 'London'), ('Charlie', 35, 'Tokyo')]\n",
      "Dictionary from zip: {'Alice': 25, 'Bob': 30, 'Charlie': 35}\n"
     ]
    }
   ],
   "source": [
    "# zip() combines multiple iterables into tuples\n",
    "names = [\"Alice\", \"Bob\", \"Charlie\"]\n",
    "ages = [25, 30, 35]\n",
    "cities = [\"New York\", \"London\", \"Tokyo\"]\n",
    "\n",
    "combined = list(zip(names, ages, cities))\n",
    "print(\"Zipped:\", combined)\n",
    "\n",
    "# Creating a dictionary from zip\n",
    "people_dict = dict(zip(names, ages))\n",
    "print(\"Dictionary from zip:\", people_dict)"
   ]
  },
  {
   "cell_type": "code",
   "execution_count": 8,
   "metadata": {},
   "outputs": [
    {
     "name": "stdout",
     "output_type": "stream",
     "text": [
      "Unzipped: (1, 2, 3) ('a', 'b', 'c')\n"
     ]
    }
   ],
   "source": [
    "# Unzipping with zip(*iterable)\n",
    "pairs = [(1, 'a'), (2, 'b'), (3, 'c')]\n",
    "numbers, letters = zip(*pairs)\n",
    "print(\"Unzipped:\", numbers, letters)"
   ]
  },
  {
   "cell_type": "markdown",
   "metadata": {},
   "source": [
    "## 4. Using zip with **kwargs"
   ]
  },
  {
   "cell_type": "code",
   "execution_count": 9,
   "metadata": {},
   "outputs": [
    {
     "name": "stdout",
     "output_type": "stream",
     "text": [
      "Creating user with:\n",
      "  name: Alice\n",
      "  age: 28\n",
      "  email: alice@example.com\n",
      "  city: New York\n",
      "\n",
      "Returned: {'name': 'Alice', 'age': 28, 'email': 'alice@example.com', 'city': 'New York'}\n"
     ]
    }
   ],
   "source": [
    "# Using zip to create key-value pairs for **kwargs\n",
    "def create_user(**kwargs):\n",
    "    \"\"\"Create a user profile from keyword arguments\"\"\"\n",
    "    print(\"Creating user with:\")\n",
    "    for key, value in kwargs.items():\n",
    "        print(f\"  {key}: {value}\")\n",
    "    return kwargs\n",
    "\n",
    "# Two lists: keys and values\n",
    "keys = [\"name\", \"age\", \"email\", \"city\"]\n",
    "values = [\"Alice\", 28, \"alice@example.com\", \"New York\"]\n",
    "\n",
    "# Convert to dictionary using zip, then unpack as **kwargs\n",
    "user_data = dict(zip(keys, values))\n",
    "user = create_user(**user_data)\n",
    "print(\"\\nReturned:\", user)"
   ]
  },
  {
   "cell_type": "code",
   "execution_count": 10,
   "metadata": {},
   "outputs": [
    {
     "name": "stdout",
     "output_type": "stream",
     "text": [
      "Server configuration:\n",
      "  host = 192.168.1.100\n",
      "  port = 3000\n",
      "  debug = True\n",
      "  timeout = 30\n"
     ]
    }
   ],
   "source": [
    "# Example 2: Configuration function with **kwargs\n",
    "def configure_server(**kwargs):\n",
    "    \"\"\"Configure server with various options\"\"\"\n",
    "    defaults = {\n",
    "        \"host\": \"localhost\",\n",
    "        \"port\": 8080,\n",
    "        \"debug\": False,\n",
    "        \"timeout\": 30\n",
    "    }\n",
    "    # Merge defaults with provided kwargs\n",
    "    config = {**defaults, **kwargs}\n",
    "    print(\"Server configuration:\")\n",
    "    for key, value in config.items():\n",
    "        print(f\"  {key} = {value}\")\n",
    "    return config\n",
    "\n",
    "# Lists to create kwargs from\n",
    "config_keys = [\"host\", \"port\", \"debug\"]\n",
    "config_values = [\"192.168.1.100\", 3000, True]\n",
    "\n",
    "# Create and pass as **kwargs\n",
    "settings = dict(zip(config_keys, config_values))\n",
    "server_config = configure_server(**settings)"
   ]
  },
  {
   "cell_type": "code",
   "execution_count": null,
   "metadata": {},
   "outputs": [],
   "source": [
    "# Example 3: Dynamic function calls with multiple records\n",
    "def process_order(**kwargs):\n",
    "    \"\"\"Process an order with various parameters\"\"\"\n",
    "    required = [\"product\", \"quantity\", \"price\"]\n",
    "    \n",
    "    # Check if all required fields are present\n",
    "    if not all(key in kwargs for key in required):\n",
    "        return \"Error: Missing required fields\"\n",
    "    \n",
    "    total = kwargs[\"quantity\"] * kwargs[\"price\"]\n",
    "    discount = kwargs.get(\"discount\", 0)  # Optional field\n",
    "    final_total = total * (1 - discount)\n",
    "    \n",
    "    return {\n",
    "        \"product\": kwargs[\"product\"],\n",
    "        \"total\": final_total,\n",
    "        \"status\": \"processed\"\n",
    "    }\n",
    "\n",
    "# Multiple orders as separate key-value lists\n",
    "order_keys = [\"product\", \"quantity\", \"price\", \"discount\"]\n",
    "order1_values = [\"Laptop\", 2, 1200, 0.1]\n",
    "order2_values = [\"Mouse\", 5, 25, 0.0]\n",
    "order3_values = [\"Keyboard\", 3, 75, 0.15]\n",
    "\n",
    "orders = [order1_values, order2_values, order3_values]\n",
    "\n",
    "print(\"Processing orders:\")\n",
    "for i, order_values in enumerate(orders, 1):\n",
    "    order_dict = dict(zip(order_keys, order_values))\n",
    "    result = process_order(**order_dict)\n",
    "    print(f\"Order {i}: {result}\")"
   ]
  },
  {
   "cell_type": "code",
   "execution_count": null,
   "metadata": {},
   "outputs": [],
   "source": [
    "# Example 4: Using map with zip and **kwargs\n",
    "def format_message(**kwargs):\n",
    "    \"\"\"Format a message template with provided values\"\"\"\n",
    "    template = \"Hello {name}, you have {count} {item}(s) waiting.\"\n",
    "    try:\n",
    "        return template.format(**kwargs)\n",
    "    except KeyError as e:\n",
    "        return f\"Error: Missing key {e}\"\n",
    "\n",
    "# Multiple sets of keys and values\n",
    "names = [\"Alice\", \"Bob\", \"Charlie\"]\n",
    "counts = [3, 7, 1]\n",
    "items = [\"message\", \"notification\", \"alert\"]\n",
    "\n",
    "# Create list of dictionaries\n",
    "message_data = [\n",
    "    {\"name\": n, \"count\": c, \"item\": i}\n",
    "    for n, c, i in zip(names, counts, items)\n",
    "]\n",
    "\n",
    "# Apply function to each dictionary using **kwargs\n",
    "messages = [format_message(**data) for data in message_data]\n",
    "for msg in messages:\n",
    "    print(msg)"
   ]
  },
  {
   "cell_type": "markdown",
   "metadata": {},
   "source": [
    "## 5. Using map()"
   ]
  },
  {
   "cell_type": "code",
   "execution_count": null,
   "metadata": {},
   "outputs": [],
   "source": [
    "# map() applies a function to all items\n",
    "numbers = [1, 2, 3, 4, 5]\n",
    "\n",
    "squared = list(map(lambda x: x**2, numbers))\n",
    "print(\"Squared:\", squared)\n",
    "\n",
    "# map with multiple arguments\n",
    "nums1 = [1, 2, 3]\n",
    "nums2 = [10, 20, 30]\n",
    "sums = list(map(lambda x, y: x + y, nums1, nums2))\n",
    "print(\"Element-wise sum:\", sums)"
   ]
  },
  {
   "cell_type": "code",
   "execution_count": null,
   "metadata": {},
   "outputs": [],
   "source": [
    "# map with custom function\n",
    "def celsius_to_fahrenheit(c):\n",
    "    return (c * 9/5) + 32\n",
    "\n",
    "temps_c = [0, 10, 20, 30, 100]\n",
    "temps_f = list(map(celsius_to_fahrenheit, temps_c))\n",
    "print(\"Temperatures (F):\", temps_f)"
   ]
  },
  {
   "cell_type": "markdown",
   "metadata": {},
   "source": [
    "## 6. Using filter()"
   ]
  },
  {
   "cell_type": "code",
   "execution_count": null,
   "metadata": {},
   "outputs": [],
   "source": [
    "# filter() keeps items that pass a test\n",
    "numbers = [1, 2, 3, 4, 5, 6, 7, 8, 9, 10]\n",
    "\n",
    "evens = list(filter(lambda x: x % 2 == 0, numbers))\n",
    "print(\"Even numbers:\", evens)"
   ]
  },
  {
   "cell_type": "code",
   "execution_count": null,
   "metadata": {},
   "outputs": [],
   "source": [
    "# Filter with dictionaries\n",
    "students = [\n",
    "    {\"name\": \"Alice\", \"grade\": 85},\n",
    "    {\"name\": \"Bob\", \"grade\": 72},\n",
    "    {\"name\": \"Charlie\", \"grade\": 90},\n",
    "    {\"name\": \"Diana\", \"grade\": 68}\n",
    "]\n",
    "\n",
    "passing = list(filter(lambda s: s[\"grade\"] >= 75, students))\n",
    "print(\"Passing students:\", passing)"
   ]
  },
  {
   "cell_type": "markdown",
   "metadata": {},
   "source": [
    "## 7. Combining zip and map"
   ]
  },
  {
   "cell_type": "code",
   "execution_count": 11,
   "metadata": {},
   "outputs": [
    {
     "name": "stdout",
     "output_type": "stream",
     "text": [
      "Distances: ['5.00', '6.40', '7.81']\n",
      "Distances (cleaner): ['5.00', '6.40', '7.81']\n"
     ]
    }
   ],
   "source": [
    "# Example: Calculate distances between coordinate pairs\n",
    "points1 = [(0, 0), (1, 1), (2, 2)]\n",
    "points2 = [(3, 4), (5, 6), (7, 8)]\n",
    "\n",
    "def distance(p1, p2):\n",
    "    return ((p2[0] - p1[0])**2 + (p2[1] - p1[1])**2)**0.5\n",
    "\n",
    "distances = list(map(lambda pts: distance(pts[0], pts[1]), zip(points1, points2)))\n",
    "print(\"Distances:\", [f\"{d:.2f}\" for d in distances])\n",
    "\n",
    "# Or more elegantly:\n",
    "distances2 = list(map(distance, points1, points2))\n",
    "print(\"Distances (cleaner):\", [f\"{d:.2f}\" for d in distances2])"
   ]
  },
  {
   "cell_type": "markdown",
   "metadata": {},
   "source": [
    "## 8. Combining zip and filter"
   ]
  },
  {
   "cell_type": "code",
   "execution_count": 12,
   "metadata": {},
   "outputs": [
    {
     "name": "stdout",
     "output_type": "stream",
     "text": [
      "Expensive items: [('Apple', 1.2), ('Cherry', 3.0), ('Date', 2.5)]\n",
      "As dictionary: {'Apple': 1.2, 'Cherry': 3.0, 'Date': 2.5}\n"
     ]
    }
   ],
   "source": [
    "# Example: Filter paired data\n",
    "products = [\"Apple\", \"Banana\", \"Cherry\", \"Date\"]\n",
    "prices = [1.20, 0.50, 3.00, 2.50]\n",
    "\n",
    "expensive = list(filter(lambda item: item[1] > 1.00, zip(products, prices)))\n",
    "print(\"Expensive items:\", expensive)\n",
    "\n",
    "# Convert back to dictionary\n",
    "expensive_dict = dict(expensive)\n",
    "print(\"As dictionary:\", expensive_dict)"
   ]
  },
  {
   "cell_type": "markdown",
   "metadata": {},
   "source": [
    "## 8. Combining map and filter"
   ]
  },
  {
   "cell_type": "code",
   "execution_count": 13,
   "metadata": {},
   "outputs": [
    {
     "name": "stdout",
     "output_type": "stream",
     "text": [
      "Squares > 100: [121, 144, 169, 196, 225, 256, 289, 324, 361, 400]\n",
      "Same result (efficient): [121, 144, 169, 196, 225, 256, 289, 324, 361, 400]\n"
     ]
    }
   ],
   "source": [
    "# Example: Process and filter in sequence\n",
    "numbers = range(1, 21)\n",
    "\n",
    "# Square numbers, then keep only those > 100\n",
    "result = list(filter(lambda x: x > 100, map(lambda x: x**2, numbers)))\n",
    "print(\"Squares > 100:\", result)\n",
    "\n",
    "# Alternative: filter first, then map (more efficient)\n",
    "result2 = list(map(lambda x: x**2, filter(lambda x: x > 10, numbers)))\n",
    "print(\"Same result (efficient):\", result2)"
   ]
  },
  {
   "cell_type": "markdown",
   "metadata": {},
   "source": [
    "## 9. Combining zip, map, and filter together"
   ]
  },
  {
   "cell_type": "code",
   "execution_count": 15,
   "metadata": {},
   "outputs": [
    {
     "name": "stdout",
     "output_type": "stream",
     "text": [
      "Averages: [86.5, 73.5, 87.5, 69.0, 93.5]\n",
      "Students with averages: [('Alice', 86.5), ('Bob', 73.5), ('Charlie', 87.5), ('Diana', 69.0), ('Eve', 93.5)]\n",
      "High performers: [('Alice', 86.5), ('Charlie', 87.5), ('Eve', 93.5)]\n"
     ]
    }
   ],
   "source": [
    "# Example: Process student data\n",
    "students = [\"Alice\", \"Bob\", \"Charlie\", \"Diana\", \"Eve\"]\n",
    "scores1 = [85, 72, 90, 68, 95]\n",
    "scores2 = [88, 75, 85, 70, 92]\n",
    "\n",
    "# Calculate averages\n",
    "averages = list(map(lambda s: (s[0] + s[1]) / 2, zip(scores1, scores2)))\n",
    "print(\"Averages:\", averages)\n",
    "\n",
    "# Combine names with averages\n",
    "student_avgs = list(zip(students, averages))\n",
    "print(\"Students with averages:\", student_avgs)\n",
    "\n",
    "# Filter for students with avg >= 80\n",
    "high_performers = list(filter(lambda x: x[1] >= 80, student_avgs))\n",
    "print(\"High performers:\", high_performers)"
   ]
  },
  {
   "cell_type": "code",
   "execution_count": 16,
   "metadata": {},
   "outputs": [
    {
     "name": "stdout",
     "output_type": "stream",
     "text": [
      "All in one: [('Alice', 86.5), ('Charlie', 87.5), ('Eve', 93.5)]\n"
     ]
    }
   ],
   "source": [
    "# All in one chain\n",
    "result = list(filter(\n",
    "    lambda x: x[1] >= 80,\n",
    "    zip(students, map(lambda s: (s[0] + s[1]) / 2, zip(scores1, scores2)))\n",
    "))\n",
    "print(\"All in one:\", result)"
   ]
  },
  {
   "cell_type": "markdown",
   "metadata": {},
   "source": [
    "## 10. Practical Example: Data Processing Pipeline"
   ]
  },
  {
   "cell_type": "code",
   "execution_count": null,
   "metadata": {},
   "outputs": [],
   "source": [
    "# Example: Process sales data\n",
    "products = [\"Laptop\", \"Mouse\", \"Keyboard\", \"Monitor\", \"Headphones\"]\n",
    "quantities = [5, 15, 10, 3, 8]\n",
    "unit_prices = [1200, 25, 75, 300, 150]\n",
    "\n",
    "# Calculate total values\n",
    "totals = list(map(lambda q, p: q * p, quantities, unit_prices))\n",
    "print(\"Total values:\", totals)\n",
    "\n",
    "# Create detailed records\n",
    "sales_data = list(zip(products, quantities, unit_prices, totals))\n",
    "print(\"\\nSales records:\")\n",
    "for item in sales_data:\n",
    "    print(f\"  {item[0]}: {item[1]} × ${item[2]} = ${item[3]}\")"
   ]
  },
  {
   "cell_type": "code",
   "execution_count": null,
   "metadata": {},
   "outputs": [],
   "source": [
    "# Filter high-value sales (> $500)\n",
    "high_value = list(filter(lambda x: x[3] > 500, sales_data))\n",
    "print(\"High-value sales (>$500):\")\n",
    "for item in high_value:\n",
    "    print(f\"  {item[0]}: ${item[3]}\")\n",
    "\n",
    "# Convert to dictionary of product: total\n",
    "sales_dict = dict(map(lambda x: (x[0], x[3]), sales_data))\n",
    "print(\"\\nSales dictionary:\", sales_dict)"
   ]
  },
  {
   "cell_type": "markdown",
   "metadata": {},
   "source": [
    "## 11. Function Returns with Tuples and Dictionaries"
   ]
  },
  {
   "cell_type": "code",
   "execution_count": null,
   "metadata": {},
   "outputs": [],
   "source": [
    "def analyze_text(text):\n",
    "    \"\"\"Return multiple statistics as a tuple\"\"\"\n",
    "    words = text.split()\n",
    "    return len(text), len(words), len(set(words))\n",
    "\n",
    "def analyze_numbers(nums):\n",
    "    \"\"\"Return statistics as a dictionary\"\"\"\n",
    "    return {\n",
    "        \"count\": len(nums),\n",
    "        \"sum\": sum(nums),\n",
    "        \"min\": min(nums),\n",
    "        \"max\": max(nums),\n",
    "        \"avg\": sum(nums) / len(nums)\n",
    "    }\n",
    "\n",
    "text = \"the quick brown fox jumps over the lazy dog\"\n",
    "char_count, word_count, unique_words = analyze_text(text)\n",
    "print(f\"Text: {char_count} chars, {word_count} words, {unique_words} unique\")\n",
    "\n",
    "nums = [10, 20, 30, 40, 50]\n",
    "stats = analyze_numbers(nums)\n",
    "print(f\"Numbers: avg={stats['avg']}, min={stats['min']}, max={stats['max']}\")"
   ]
  },
  {
   "cell_type": "markdown",
   "metadata": {},
   "source": [
    "## 12. Advanced: Nested structures"
   ]
  },
  {
   "cell_type": "code",
   "execution_count": null,
   "metadata": {},
   "outputs": [],
   "source": [
    "# Working with nested dictionaries and tuples\n",
    "users = [\n",
    "    (\"Alice\", {\"age\": 28, \"city\": \"NYC\"}),\n",
    "    (\"Bob\", {\"age\": 32, \"city\": \"LA\"}),\n",
    "    (\"Charlie\", {\"age\": 25, \"city\": \"NYC\"})\n",
    "]\n",
    "\n",
    "# Filter users from NYC\n",
    "nyc_users = list(filter(lambda u: u[1][\"city\"] == \"NYC\", users))\n",
    "print(\"NYC users:\", [u[0] for u in nyc_users])\n",
    "\n",
    "# Get ages of NYC users using map and filter\n",
    "nyc_ages = list(map(\n",
    "    lambda u: (u[0], u[1][\"age\"]),\n",
    "    filter(lambda u: u[1][\"city\"] == \"NYC\", users)\n",
    "))\n",
    "print(\"NYC users with ages:\", nyc_ages)"
   ]
  }
 ],
 "metadata": {
  "kernelspec": {
   "display_name": "Python 3",
   "language": "python",
   "name": "python3"
  },
  "language_info": {
   "codemirror_mode": {
    "name": "ipython",
    "version": 3
   },
   "file_extension": ".py",
   "mimetype": "text/x-python",
   "name": "python",
   "nbconvert_exporter": "python",
   "pygments_lexer": "ipython3",
   "version": "3.13.7"
  }
 },
 "nbformat": 4,
 "nbformat_minor": 4
}
