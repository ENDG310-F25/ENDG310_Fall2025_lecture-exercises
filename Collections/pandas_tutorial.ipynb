{
 "cells": [
  {
   "cell_type": "markdown",
   "metadata": {},
   "source": [
    "# Pandas Tutorial: Comprehensive Guide\n",
    "## Topics Covered:\n",
    "- Series and DataFrame creation\n",
    "- Loading JSON files\n",
    "- Slicing and indexing techniques\n",
    "- Passing Series/DataFrames to functions\n",
    "- Exporting DataFrames to JSON"
   ]
  },
  {
   "cell_type": "code",
   "execution_count": null,
   "metadata": {},
   "outputs": [],
   "source": [
    "import pandas as pd\n",
    "import numpy as np\n",
    "import json"
   ]
  },
  {
   "cell_type": "markdown",
   "metadata": {},
   "source": [
    "## 1. Creating Series from Different Collections"
   ]
  },
  {
   "cell_type": "code",
   "execution_count": null,
   "metadata": {},
   "outputs": [],
   "source": [
    "# From Python list\n",
    "series_from_list = pd.Series([10, 20, 30, 40, 50])\n",
    "print(\"Series from list:\")\n",
    "print(series_from_list)\n",
    "print()"
   ]
  },
  {
   "cell_type": "code",
   "execution_count": null,
   "metadata": {},
   "outputs": [],
   "source": [
    "# From dictionary\n",
    "series_from_dict = pd.Series({'a': 100, 'b': 200, 'c': 300, 'd': 400})\n",
    "print(\"Series from dictionary:\")\n",
    "print(series_from_dict)\n",
    "print()"
   ]
  },
  {
   "cell_type": "code",
   "execution_count": null,
   "metadata": {},
   "outputs": [],
   "source": [
    "# From NumPy array\n",
    "np_array = np.array([5, 15, 25, 35, 45])\n",
    "series_from_numpy = pd.Series(np_array, index=['first', 'second', 'third', 'fourth', 'fifth'])\n",
    "print(\"Series from NumPy array:\")\n",
    "print(series_from_numpy)\n",
    "print()"
   ]
  },
  {
   "cell_type": "markdown",
   "metadata": {},
   "source": [
    "## 2. Creating DataFrames from Different Collections"
   ]
  },
  {
   "cell_type": "code",
   "execution_count": null,
   "metadata": {},
   "outputs": [],
   "source": [
    "# From dictionary of lists\n",
    "data_dict = {\n",
    "    'Name': ['Alice', 'Bob', 'Charlie', 'David', 'Eve'],\n",
    "    'Age': [25, 30, 35, 28, 32],\n",
    "    'City': ['New York', 'Los Angeles', 'Chicago', 'Houston', 'Phoenix'],\n",
    "    'Salary': [70000, 80000, 75000, 82000, 78000]\n",
    "}\n",
    "df_from_dict = pd.DataFrame(data_dict)\n",
    "print(\"DataFrame from dictionary:\")\n",
    "print(df_from_dict)\n",
    "print()"
   ]
  },
  {
   "cell_type": "code",
   "execution_count": null,
   "metadata": {},
   "outputs": [],
   "source": [
    "# From list of dictionaries\n",
    "data_list = [\n",
    "    {'Product': 'Laptop', 'Price': 1200, 'Stock': 15},\n",
    "    {'Product': 'Mouse', 'Price': 25, 'Stock': 100},\n",
    "    {'Product': 'Keyboard', 'Price': 75, 'Stock': 50},\n",
    "    {'Product': 'Monitor', 'Price': 300, 'Stock': 30}\n",
    "]\n",
    "df_from_list = pd.DataFrame(data_list)\n",
    "print(\"DataFrame from list of dictionaries:\")\n",
    "print(df_from_list)\n",
    "print()"
   ]
  },
  {
   "cell_type": "code",
   "execution_count": null,
   "metadata": {},
   "outputs": [],
   "source": [
    "# From NumPy array\n",
    "np_data = np.array([[1, 2, 3], [4, 5, 6], [7, 8, 9], [10, 11, 12]])\n",
    "df_from_numpy = pd.DataFrame(np_data, columns=['Column_A', 'Column_B', 'Column_C'])\n",
    "print(\"DataFrame from NumPy array:\")\n",
    "print(df_from_numpy)\n",
    "print()"
   ]
  },
  {
   "cell_type": "markdown",
   "metadata": {},
   "source": [
    "## 3. Loading Data from JSON File"
   ]
  },
  {
   "cell_type": "code",
   "execution_count": null,
   "metadata": {},
   "outputs": [],
   "source": [
    "# First, let's create a sample JSON file\n",
    "sample_data = {\n",
    "    'employees': [\n",
    "        {'id': 1, 'name': 'John Smith', 'department': 'Engineering', 'salary': 95000, 'years_experience': 5},\n",
    "        {'id': 2, 'name': 'Emma Wilson', 'department': 'Marketing', 'salary': 72000, 'years_experience': 3},\n",
    "        {'id': 3, 'name': 'Michael Brown', 'department': 'Engineering', 'salary': 105000, 'years_experience': 8},\n",
    "        {'id': 4, 'name': 'Sarah Davis', 'department': 'HR', 'salary': 68000, 'years_experience': 4},\n",
    "        {'id': 5, 'name': 'James Johnson', 'department': 'Sales', 'salary': 85000, 'years_experience': 6}\n",
    "    ]\n",
    "}\n",
    "\n",
    "# Save to JSON file\n",
    "with open('employees.json', 'w') as f:\n",
    "    json.dump(sample_data, f, indent=2)\n",
    "\n",
    "print(\"JSON file 'employees.json' created successfully!\")"
   ]
  },
  {
   "cell_type": "code",
   "execution_count": null,
   "metadata": {},
   "outputs": [],
   "source": [
    "# Load DataFrame from JSON file\n",
    "df_from_json = pd.read_json('employees.json')\n",
    "print(\"DataFrame loaded from JSON:\")\n",
    "print(df_from_json)\n",
    "print()\n",
    "print(\"DataFrame info:\")\n",
    "print(df_from_json.info())"
   ]
  },
  {
   "cell_type": "markdown",
   "metadata": {},
   "source": [
    "## 4. Slicing and Indexing Techniques\n",
    "### 4.1 Series Indexing"
   ]
  },
  {
   "cell_type": "code",
   "execution_count": null,
   "metadata": {},
   "outputs": [],
   "source": [
    "# Create a sample series\n",
    "temperatures = pd.Series([22, 25, 28, 24, 26, 23, 27], \n",
    "                        index=['Mon', 'Tue', 'Wed', 'Thu', 'Fri', 'Sat', 'Sun'])\n",
    "print(\"Temperature series:\")\n",
    "print(temperatures)\n",
    "print()\n",
    "\n",
    "# Single element access\n",
    "print(f\"Temperature on Monday: {temperatures['Mon']}\")\n",
    "print(f\"Temperature at position 0: {temperatures[0]}\")\n",
    "print()\n",
    "\n",
    "# Slicing\n",
    "print(\"Weekday temperatures (Mon-Fri):\")\n",
    "print(temperatures['Mon':'Fri'])\n",
    "print()\n",
    "\n",
    "# Boolean indexing\n",
    "print(\"Days with temperature > 25:\")\n",
    "print(temperatures[temperatures > 25])\n",
    "print()"
   ]
  },
  {
   "cell_type": "markdown",
   "metadata": {},
   "source": [
    "### 4.2 DataFrame Indexing with loc and iloc"
   ]
  },
  {
   "cell_type": "code",
   "execution_count": null,
   "metadata": {},
   "outputs": [],
   "source": [
    "# Using the employees DataFrame\n",
    "df = df_from_json.copy()\n",
    "\n",
    "# Access single column\n",
    "print(\"Names column:\")\n",
    "print(df['employees'][0]['name'])\n",
    "print()\n",
    "\n",
    "# Let's normalize the JSON for better access\n",
    "df_employees = pd.json_normalize(sample_data['employees'])\n",
    "print(\"Normalized DataFrame:\")\n",
    "print(df_employees)\n",
    "print()"
   ]
  },
  {
   "cell_type": "code",
   "execution_count": null,
   "metadata": {},
   "outputs": [],
   "source": [
    "# loc - label-based indexing\n",
    "print(\"Using loc to access row 0:\")\n",
    "print(df_employees.loc[0])\n",
    "print()\n",
    "\n",
    "print(\"Using loc to access specific rows and columns:\")\n",
    "print(df_employees.loc[0:2, ['name', 'salary']])\n",
    "print()"
   ]
  },
  {
   "cell_type": "code",
   "execution_count": null,
   "metadata": {},
   "outputs": [],
   "source": [
    "# iloc - integer position-based indexing\n",
    "print(\"Using iloc to access first 3 rows and first 3 columns:\")\n",
    "print(df_employees.iloc[0:3, 0:3])\n",
    "print()\n",
    "\n",
    "print(\"Using iloc to access specific positions:\")\n",
    "print(df_employees.iloc[[0, 2, 4], [1, 3]])\n",
    "print()"
   ]
  },
  {
   "cell_type": "markdown",
   "metadata": {},
   "source": [
    "### 4.3 Boolean Indexing"
   ]
  },
  {
   "cell_type": "code",
   "execution_count": null,
   "metadata": {},
   "outputs": [],
   "source": [
    "# Filter employees with salary > 80000\n",
    "high_earners = df_employees[df_employees['salary'] > 80000]\n",
    "print(\"Employees with salary > $80,000:\")\n",
    "print(high_earners)\n",
    "print()\n",
    "\n",
    "# Multiple conditions\n",
    "experienced_engineers = df_employees[\n",
    "    (df_employees['department'] == 'Engineering') & \n",
    "    (df_employees['years_experience'] > 5)\n",
    "]\n",
    "print(\"Experienced engineers (>5 years):\")\n",
    "print(experienced_engineers)\n",
    "print()"
   ]
  },
  {
   "cell_type": "markdown",
   "metadata": {},
   "source": [
    "### 4.4 Advanced Slicing"
   ]
  },
  {
   "cell_type": "code",
   "execution_count": null,
   "metadata": {},
   "outputs": [],
   "source": [
    "# Select multiple columns\n",
    "print(\"Selected columns:\")\n",
    "print(df_employees[['name', 'department', 'salary']])\n",
    "print()\n",
    "\n",
    "# Using query method\n",
    "print(\"Using query method to filter:\")\n",
    "print(df_employees.query('salary >= 85000 and years_experience >= 5'))\n",
    "print()"
   ]
  },
  {
   "cell_type": "markdown",
   "metadata": {},
   "source": [
    "## 5. Passing Series and DataFrames to Functions"
   ]
  },
  {
   "cell_type": "code",
   "execution_count": null,
   "metadata": {},
   "outputs": [],
   "source": [
    "# Function that takes a Series\n",
    "def calculate_statistics(series):\n",
    "    \"\"\"Calculate basic statistics for a Series\"\"\"\n",
    "    return {\n",
    "        'mean': series.mean(),\n",
    "        'median': series.median(),\n",
    "        'std': series.std(),\n",
    "        'min': series.min(),\n",
    "        'max': series.max()\n",
    "    }\n",
    "\n",
    "# Apply function to salary series\n",
    "salary_stats = calculate_statistics(df_employees['salary'])\n",
    "print(\"Salary statistics:\")\n",
    "for key, value in salary_stats.items():\n",
    "    print(f\"{key}: ${value:,.2f}\")\n",
    "print()"
   ]
  },
  {
   "cell_type": "code",
   "execution_count": null,
   "metadata": {},
   "outputs": [],
   "source": [
    "# Function that takes a DataFrame\n",
    "def add_bonus_column(df, bonus_percentage=0.10):\n",
    "    \"\"\"Add a bonus column based on salary\"\"\"\n",
    "    df_copy = df.copy()\n",
    "    df_copy['bonus'] = df_copy['salary'] * bonus_percentage\n",
    "    df_copy['total_compensation'] = df_copy['salary'] + df_copy['bonus']\n",
    "    return df_copy\n",
    "\n",
    "df_with_bonus = add_bonus_column(df_employees, bonus_percentage=0.15)\n",
    "print(\"DataFrame with bonus calculations:\")\n",
    "print(df_with_bonus[['name', 'salary', 'bonus', 'total_compensation']])\n",
    "print()"
   ]
  },
  {
   "cell_type": "code",
   "execution_count": null,
   "metadata": {},
   "outputs": [],
   "source": [
    "# Using apply() with custom functions\n",
    "def categorize_experience(years):\n",
    "    \"\"\"Categorize experience level\"\"\"\n",
    "    if years < 3:\n",
    "        return 'Junior'\n",
    "    elif years < 6:\n",
    "        return 'Mid-level'\n",
    "    else:\n",
    "        return 'Senior'\n",
    "\n",
    "df_employees['experience_level'] = df_employees['years_experience'].apply(categorize_experience)\n",
    "print(\"DataFrame with experience levels:\")\n",
    "print(df_employees[['name', 'years_experience', 'experience_level']])\n",
    "print()"
   ]
  },
  {
   "cell_type": "code",
   "execution_count": null,
   "metadata": {},
   "outputs": [],
   "source": [
    "# Function that operates on DataFrame rows\n",
    "def calculate_salary_per_year(row):\n",
    "    \"\"\"Calculate average salary per year of experience\"\"\"\n",
    "    if row['years_experience'] > 0:\n",
    "        return row['salary'] / row['years_experience']\n",
    "    return 0\n",
    "\n",
    "df_employees['salary_per_year'] = df_employees.apply(calculate_salary_per_year, axis=1)\n",
    "print(\"Salary per year of experience:\")\n",
    "print(df_employees[['name', 'salary', 'years_experience', 'salary_per_year']])\n",
    "print()"
   ]
  },
  {
   "cell_type": "markdown",
   "metadata": {},
   "source": [
    "## 6. Exporting DataFrames to JSON"
   ]
  },
  {
   "cell_type": "code",
   "execution_count": null,
   "metadata": {},
   "outputs": [],
   "source": [
    "# Export to JSON with default orientation (columns)\n",
    "df_employees.to_json('employees_output.json', orient='columns', indent=2)\n",
    "print(\"Exported to 'employees_output.json' with orient='columns'\")\n",
    "print()"
   ]
  },
  {
   "cell_type": "code",
   "execution_count": null,
   "metadata": {},
   "outputs": [],
   "source": [
    "# Export to JSON with records orientation (list of dictionaries)\n",
    "df_employees.to_json('employees_records.json', orient='records', indent=2)\n",
    "print(\"Exported to 'employees_records.json' with orient='records'\")\n",
    "print()\n",
    "\n",
    "# Display the content\n",
    "with open('employees_records.json', 'r') as f:\n",
    "    print(\"Content of employees_records.json:\")\n",
    "    print(f.read())"
   ]
  },
  {
   "cell_type": "code",
   "execution_count": null,
   "metadata": {},
   "outputs": [],
   "source": [
    "# Export to JSON with index orientation\n",
    "df_employees.to_json('employees_index.json', orient='index', indent=2)\n",
    "print(\"Exported to 'employees_index.json' with orient='index'\")\n",
    "print()"
   ]
  },
  {
   "cell_type": "code",
   "execution_count": null,
   "metadata": {},
   "outputs": [],
   "source": [
    "# Export specific columns only\n",
    "df_employees[['name', 'department', 'salary']].to_json(\n",
    "    'employees_summary.json', \n",
    "    orient='records', \n",
    "    indent=2\n",
    ")\n",
    "print(\"Exported selected columns to 'employees_summary.json'\")\n",
    "print()\n",
    "\n",
    "# Verify the export\n",
    "with open('employees_summary.json', 'r') as f:\n",
    "    print(\"Content of employees_summary.json:\")\n",
    "    print(f.read())"
   ]
  },
  {
   "cell_type": "markdown",
   "metadata": {},
   "source": [
    "## Summary\n",
    "\n",
    "This tutorial covered:\n",
    "1. **Creating Series and DataFrames** from lists, dictionaries, and NumPy arrays\n",
    "2. **Loading JSON files** into DataFrames\n",
    "3. **Slicing and indexing** using loc, iloc, boolean indexing, and query\n",
    "4. **Passing Series and DataFrames to functions** and using apply()\n",
    "5. **Exporting DataFrames to JSON** with different orientations\n",
    "\n",
    "### Key Takeaways:\n",
    "- Use `loc` for label-based indexing and `iloc` for position-based indexing\n",
    "- Boolean indexing is powerful for filtering data\n",
    "- Functions can operate on entire Series/DataFrames or row-by-row with `apply()`\n",
    "- JSON export orientation affects the output structure (records, columns, index, etc.)"
   ]
  }
 ],
 "metadata": {
  "kernelspec": {
   "display_name": "Python 3",
   "language": "python",
   "name": "python3"
  },
  "language_info": {
   "codemirror_mode": {
    "name": "ipython",
    "version": 3
   },
   "file_extension": ".py",
   "mimetype": "text/x-python",
   "name": "python",
   "nbconvert_exporter": "python",
   "pygments_lexer": "ipython3",
   "version": "3.8.0"
  }
 },
 "nbformat": 4,
 "nbformat_minor": 4
}